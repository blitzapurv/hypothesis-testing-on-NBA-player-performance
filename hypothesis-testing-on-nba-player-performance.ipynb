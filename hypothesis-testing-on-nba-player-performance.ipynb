{
 "cells": [
  {
   "cell_type": "markdown",
   "id": "a2161f6d",
   "metadata": {
    "id": "8pXSm26Wzdyc",
    "papermill": {
     "duration": 0.0555,
     "end_time": "2022-05-20T04:33:03.331837",
     "exception": false,
     "start_time": "2022-05-20T04:33:03.276337",
     "status": "completed"
    },
    "tags": []
   },
   "source": [
    "## Hypothesis testing on NBA player performance\n",
    "\n",
    "Analysing Player performance stats after for the regular NBA season 2020-2021.\n",
    "The aim of the present study is to test if the players in different classic postions have significantly different values of performance variables.\n",
    "\n",
    "A test for the null hypothesis that 2 independent samples have identical average. Here, the samples being, values of performance variables corresponding to all the five distinct positions.\n",
    "\n",
    "* **Null hypothesis**: Average value of a performance metric 'p' is same for all the positions. \n",
    "    * H0: μ1 = μ2 = · · · = μ5\n",
    "* **Alternative hypothesis**: Average value of a performance metric 'p' is not same for all the positions.\n",
    "    * H1: At least two of the means are not equal."
   ]
  },
  {
   "cell_type": "markdown",
   "id": "730bd713",
   "metadata": {
    "id": "3dyGnASCfzFP",
    "papermill": {
     "duration": 0.05273,
     "end_time": "2022-05-20T04:33:03.437768",
     "exception": false,
     "start_time": "2022-05-20T04:33:03.385038",
     "status": "completed"
    },
    "tags": []
   },
   "source": [
    "## Importing Relevant Libraries\n",
    "\n"
   ]
  },
  {
   "cell_type": "code",
   "execution_count": 1,
   "id": "de03286f",
   "metadata": {
    "execution": {
     "iopub.execute_input": "2022-05-20T04:33:03.539507Z",
     "iopub.status.busy": "2022-05-20T04:33:03.538661Z",
     "iopub.status.idle": "2022-05-20T04:33:05.925434Z",
     "shell.execute_reply": "2022-05-20T04:33:05.924480Z"
    },
    "id": "hnqI5b5cycTs",
    "papermill": {
     "duration": 2.441352,
     "end_time": "2022-05-20T04:33:05.928084",
     "exception": false,
     "start_time": "2022-05-20T04:33:03.486732",
     "status": "completed"
    },
    "tags": []
   },
   "outputs": [],
   "source": [
    "import pandas as pd\n",
    "import numpy as np\n",
    "import matplotlib.pyplot as plt\n",
    "import seaborn as sns\n",
    "import plotly.express as px\n",
    "import missingno as mno\n",
    "sns.set_style(\"whitegrid\", {\"grid.color\": \".2\", \"grid.linestyle\": \":\"})"
   ]
  },
  {
   "cell_type": "code",
   "execution_count": 2,
   "id": "84aa6a1b",
   "metadata": {
    "execution": {
     "iopub.execute_input": "2022-05-20T04:33:06.029848Z",
     "iopub.status.busy": "2022-05-20T04:33:06.029086Z",
     "iopub.status.idle": "2022-05-20T04:33:06.033505Z",
     "shell.execute_reply": "2022-05-20T04:33:06.032941Z"
    },
    "id": "eFZIPUrJyg0_",
    "papermill": {
     "duration": 0.058139,
     "end_time": "2022-05-20T04:33:06.035426",
     "exception": false,
     "start_time": "2022-05-20T04:33:05.977287",
     "status": "completed"
    },
    "tags": []
   },
   "outputs": [],
   "source": [
    "import warnings\n",
    "warnings.filterwarnings('ignore')"
   ]
  },
  {
   "cell_type": "markdown",
   "id": "6064486a",
   "metadata": {
    "id": "bRWYWbfXf7mo",
    "papermill": {
     "duration": 0.048511,
     "end_time": "2022-05-20T04:33:06.132440",
     "exception": false,
     "start_time": "2022-05-20T04:33:06.083929",
     "status": "completed"
    },
    "tags": []
   },
   "source": [
    "## Reading Dataset(s)"
   ]
  },
  {
   "cell_type": "code",
   "execution_count": 3,
   "id": "31f6896f",
   "metadata": {
    "execution": {
     "iopub.execute_input": "2022-05-20T04:33:06.230896Z",
     "iopub.status.busy": "2022-05-20T04:33:06.230333Z",
     "iopub.status.idle": "2022-05-20T04:33:06.558002Z",
     "shell.execute_reply": "2022-05-20T04:33:06.557272Z"
    },
    "id": "BXVGlN_0yhOl",
    "papermill": {
     "duration": 0.379493,
     "end_time": "2022-05-20T04:33:06.560340",
     "exception": false,
     "start_time": "2022-05-20T04:33:06.180847",
     "status": "completed"
    },
    "tags": []
   },
   "outputs": [],
   "source": [
    "#reading data\n",
    "players = pd.read_csv('../input/nba-players-data-1950-to-2021/player_data.csv')\n",
    "seasons_stats = pd.read_csv('../input/nba-players-data-1950-to-2021/seasons_stats.csv', index_col = 0)"
   ]
  },
  {
   "cell_type": "markdown",
   "id": "c6092b4e",
   "metadata": {
    "id": "fiY86VXTVXhy",
    "papermill": {
     "duration": 0.048755,
     "end_time": "2022-05-20T04:33:06.659504",
     "exception": false,
     "start_time": "2022-05-20T04:33:06.610749",
     "status": "completed"
    },
    "tags": []
   },
   "source": [
    "### Rudimentary inspection of dataset."
   ]
  },
  {
   "cell_type": "code",
   "execution_count": 4,
   "id": "90ab2a77",
   "metadata": {
    "execution": {
     "iopub.execute_input": "2022-05-20T04:33:06.759264Z",
     "iopub.status.busy": "2022-05-20T04:33:06.758654Z",
     "iopub.status.idle": "2022-05-20T04:33:06.767180Z",
     "shell.execute_reply": "2022-05-20T04:33:06.766310Z"
    },
    "id": "-eHsmexOBomv",
    "outputId": "0180771d-9f07-4400-aa45-3e06d9b26611",
    "papermill": {
     "duration": 0.0607,
     "end_time": "2022-05-20T04:33:06.769482",
     "exception": false,
     "start_time": "2022-05-20T04:33:06.708782",
     "status": "completed"
    },
    "tags": []
   },
   "outputs": [
    {
     "data": {
      "text/plain": [
       "((4979, 8), (27352, 50))"
      ]
     },
     "execution_count": 4,
     "metadata": {},
     "output_type": "execute_result"
    }
   ],
   "source": [
    "players.shape, seasons_stats.shape"
   ]
  },
  {
   "cell_type": "code",
   "execution_count": 5,
   "id": "030d7007",
   "metadata": {
    "execution": {
     "iopub.execute_input": "2022-05-20T04:33:06.870874Z",
     "iopub.status.busy": "2022-05-20T04:33:06.870320Z",
     "iopub.status.idle": "2022-05-20T04:33:06.905215Z",
     "shell.execute_reply": "2022-05-20T04:33:06.904400Z"
    },
    "id": "-Q5vx4fsBkij",
    "outputId": "ee518743-90a3-465d-ea2f-31b475ad952d",
    "papermill": {
     "duration": 0.088223,
     "end_time": "2022-05-20T04:33:06.907296",
     "exception": false,
     "start_time": "2022-05-20T04:33:06.819073",
     "status": "completed"
    },
    "tags": []
   },
   "outputs": [
    {
     "data": {
      "text/html": [
       "<div>\n",
       "<style scoped>\n",
       "    .dataframe tbody tr th:only-of-type {\n",
       "        vertical-align: middle;\n",
       "    }\n",
       "\n",
       "    .dataframe tbody tr th {\n",
       "        vertical-align: top;\n",
       "    }\n",
       "\n",
       "    .dataframe thead th {\n",
       "        text-align: right;\n",
       "    }\n",
       "</style>\n",
       "<table border=\"1\" class=\"dataframe\">\n",
       "  <thead>\n",
       "    <tr style=\"text-align: right;\">\n",
       "      <th></th>\n",
       "      <th>Year</th>\n",
       "      <th>Player</th>\n",
       "      <th>Pos</th>\n",
       "      <th>Age</th>\n",
       "      <th>Tm</th>\n",
       "      <th>G</th>\n",
       "      <th>GS</th>\n",
       "      <th>MP</th>\n",
       "      <th>FG</th>\n",
       "      <th>FGA</th>\n",
       "      <th>...</th>\n",
       "      <th>TOV%</th>\n",
       "      <th>USG%</th>\n",
       "      <th>OWS</th>\n",
       "      <th>DWS</th>\n",
       "      <th>WS</th>\n",
       "      <th>WS/48</th>\n",
       "      <th>OBPM</th>\n",
       "      <th>DBPM</th>\n",
       "      <th>BPM</th>\n",
       "      <th>VORP</th>\n",
       "    </tr>\n",
       "  </thead>\n",
       "  <tbody>\n",
       "    <tr>\n",
       "      <th>0</th>\n",
       "      <td>1950.0</td>\n",
       "      <td>Curly Armstrong</td>\n",
       "      <td>G-F</td>\n",
       "      <td>31.0</td>\n",
       "      <td>FTW</td>\n",
       "      <td>63.0</td>\n",
       "      <td>NaN</td>\n",
       "      <td>NaN</td>\n",
       "      <td>144.0</td>\n",
       "      <td>516.0</td>\n",
       "      <td>...</td>\n",
       "      <td>NaN</td>\n",
       "      <td>NaN</td>\n",
       "      <td>-0.1</td>\n",
       "      <td>3.6</td>\n",
       "      <td>3.5</td>\n",
       "      <td>NaN</td>\n",
       "      <td>NaN</td>\n",
       "      <td>NaN</td>\n",
       "      <td>NaN</td>\n",
       "      <td>NaN</td>\n",
       "    </tr>\n",
       "    <tr>\n",
       "      <th>1</th>\n",
       "      <td>1950.0</td>\n",
       "      <td>Cliff Barker</td>\n",
       "      <td>SG</td>\n",
       "      <td>29.0</td>\n",
       "      <td>INO</td>\n",
       "      <td>49.0</td>\n",
       "      <td>NaN</td>\n",
       "      <td>NaN</td>\n",
       "      <td>102.0</td>\n",
       "      <td>274.0</td>\n",
       "      <td>...</td>\n",
       "      <td>NaN</td>\n",
       "      <td>NaN</td>\n",
       "      <td>1.6</td>\n",
       "      <td>0.6</td>\n",
       "      <td>2.2</td>\n",
       "      <td>NaN</td>\n",
       "      <td>NaN</td>\n",
       "      <td>NaN</td>\n",
       "      <td>NaN</td>\n",
       "      <td>NaN</td>\n",
       "    </tr>\n",
       "    <tr>\n",
       "      <th>2</th>\n",
       "      <td>1950.0</td>\n",
       "      <td>Leo Barnhorst</td>\n",
       "      <td>SF</td>\n",
       "      <td>25.0</td>\n",
       "      <td>CHS</td>\n",
       "      <td>67.0</td>\n",
       "      <td>NaN</td>\n",
       "      <td>NaN</td>\n",
       "      <td>174.0</td>\n",
       "      <td>499.0</td>\n",
       "      <td>...</td>\n",
       "      <td>NaN</td>\n",
       "      <td>NaN</td>\n",
       "      <td>0.9</td>\n",
       "      <td>2.8</td>\n",
       "      <td>3.6</td>\n",
       "      <td>NaN</td>\n",
       "      <td>NaN</td>\n",
       "      <td>NaN</td>\n",
       "      <td>NaN</td>\n",
       "      <td>NaN</td>\n",
       "    </tr>\n",
       "    <tr>\n",
       "      <th>3</th>\n",
       "      <td>1950.0</td>\n",
       "      <td>Ed Bartels</td>\n",
       "      <td>F</td>\n",
       "      <td>24.0</td>\n",
       "      <td>TOT</td>\n",
       "      <td>15.0</td>\n",
       "      <td>NaN</td>\n",
       "      <td>NaN</td>\n",
       "      <td>22.0</td>\n",
       "      <td>86.0</td>\n",
       "      <td>...</td>\n",
       "      <td>NaN</td>\n",
       "      <td>NaN</td>\n",
       "      <td>-0.5</td>\n",
       "      <td>-0.1</td>\n",
       "      <td>-0.6</td>\n",
       "      <td>NaN</td>\n",
       "      <td>NaN</td>\n",
       "      <td>NaN</td>\n",
       "      <td>NaN</td>\n",
       "      <td>NaN</td>\n",
       "    </tr>\n",
       "    <tr>\n",
       "      <th>4</th>\n",
       "      <td>1950.0</td>\n",
       "      <td>Ed Bartels</td>\n",
       "      <td>F</td>\n",
       "      <td>24.0</td>\n",
       "      <td>DNN</td>\n",
       "      <td>13.0</td>\n",
       "      <td>NaN</td>\n",
       "      <td>NaN</td>\n",
       "      <td>21.0</td>\n",
       "      <td>82.0</td>\n",
       "      <td>...</td>\n",
       "      <td>NaN</td>\n",
       "      <td>NaN</td>\n",
       "      <td>-0.5</td>\n",
       "      <td>-0.1</td>\n",
       "      <td>-0.6</td>\n",
       "      <td>NaN</td>\n",
       "      <td>NaN</td>\n",
       "      <td>NaN</td>\n",
       "      <td>NaN</td>\n",
       "      <td>NaN</td>\n",
       "    </tr>\n",
       "  </tbody>\n",
       "</table>\n",
       "<p>5 rows × 50 columns</p>\n",
       "</div>"
      ],
      "text/plain": [
       "     Year           Player  Pos   Age   Tm     G  GS  MP     FG    FGA  ...  \\\n",
       "0  1950.0  Curly Armstrong  G-F  31.0  FTW  63.0 NaN NaN  144.0  516.0  ...   \n",
       "1  1950.0     Cliff Barker   SG  29.0  INO  49.0 NaN NaN  102.0  274.0  ...   \n",
       "2  1950.0    Leo Barnhorst   SF  25.0  CHS  67.0 NaN NaN  174.0  499.0  ...   \n",
       "3  1950.0       Ed Bartels    F  24.0  TOT  15.0 NaN NaN   22.0   86.0  ...   \n",
       "4  1950.0       Ed Bartels    F  24.0  DNN  13.0 NaN NaN   21.0   82.0  ...   \n",
       "\n",
       "   TOV%  USG%  OWS  DWS   WS  WS/48  OBPM  DBPM  BPM  VORP  \n",
       "0   NaN   NaN -0.1  3.6  3.5    NaN   NaN   NaN  NaN   NaN  \n",
       "1   NaN   NaN  1.6  0.6  2.2    NaN   NaN   NaN  NaN   NaN  \n",
       "2   NaN   NaN  0.9  2.8  3.6    NaN   NaN   NaN  NaN   NaN  \n",
       "3   NaN   NaN -0.5 -0.1 -0.6    NaN   NaN   NaN  NaN   NaN  \n",
       "4   NaN   NaN -0.5 -0.1 -0.6    NaN   NaN   NaN  NaN   NaN  \n",
       "\n",
       "[5 rows x 50 columns]"
      ]
     },
     "execution_count": 5,
     "metadata": {},
     "output_type": "execute_result"
    }
   ],
   "source": [
    "seasons_stats.head()"
   ]
  },
  {
   "cell_type": "code",
   "execution_count": 6,
   "id": "d1879d2b",
   "metadata": {
    "execution": {
     "iopub.execute_input": "2022-05-20T04:33:07.010098Z",
     "iopub.status.busy": "2022-05-20T04:33:07.009514Z",
     "iopub.status.idle": "2022-05-20T04:33:07.043638Z",
     "shell.execute_reply": "2022-05-20T04:33:07.042534Z"
    },
    "id": "K5t5riOYG1_I",
    "outputId": "394b5056-e06f-42c7-dafb-4ba24524c0cb",
    "papermill": {
     "duration": 0.089285,
     "end_time": "2022-05-20T04:33:07.046182",
     "exception": false,
     "start_time": "2022-05-20T04:33:06.956897",
     "status": "completed"
    },
    "tags": []
   },
   "outputs": [
    {
     "name": "stdout",
     "output_type": "stream",
     "text": [
      "<class 'pandas.core.frame.DataFrame'>\n",
      "Int64Index: 27352 entries, 0 to 27422\n",
      "Data columns (total 50 columns):\n",
      " #   Column  Non-Null Count  Dtype  \n",
      "---  ------  --------------  -----  \n",
      " 0   Year    27352 non-null  float64\n",
      " 1   Player  27352 non-null  object \n",
      " 2   Pos     27352 non-null  object \n",
      " 3   Age     27344 non-null  float64\n",
      " 4   Tm      27352 non-null  object \n",
      " 5   G       27352 non-null  float64\n",
      " 6   GS      20961 non-null  float64\n",
      " 7   MP      26866 non-null  float64\n",
      " 8   FG      27352 non-null  float64\n",
      " 9   FGA     27352 non-null  float64\n",
      " 10  FG%     27239 non-null  float64\n",
      " 11  3P      21655 non-null  float64\n",
      " 12  3PA     21655 non-null  float64\n",
      " 13  3P%     17962 non-null  float64\n",
      " 14  2P      27352 non-null  float64\n",
      " 15  2PA     27352 non-null  float64\n",
      " 16  2P%     27179 non-null  float64\n",
      " 17  eFG%    27239 non-null  float64\n",
      " 18  FT      27352 non-null  float64\n",
      " 19  FTA     27352 non-null  float64\n",
      " 20  FT%     26331 non-null  float64\n",
      " 21  ORB     23525 non-null  float64\n",
      " 22  DRB     23525 non-null  float64\n",
      " 23  TRB     27040 non-null  float64\n",
      " 24  AST     27352 non-null  float64\n",
      " 25  STL     23525 non-null  float64\n",
      " 26  BLK     23525 non-null  float64\n",
      " 27  TOV     22373 non-null  float64\n",
      " 28  PF      27352 non-null  float64\n",
      " 29  PTS     27352 non-null  float64\n",
      " 30  PER     26829 non-null  float64\n",
      " 31  TS%     27252 non-null  float64\n",
      " 32  3PAr    21553 non-null  float64\n",
      " 33  FTr     27239 non-null  float64\n",
      " 34  ORB%    23520 non-null  float64\n",
      " 35  DRB%    23520 non-null  float64\n",
      " 36  TRB%    24299 non-null  float64\n",
      " 37  AST%    25283 non-null  float64\n",
      " 38  STL%    23520 non-null  float64\n",
      " 39  BLK%    23520 non-null  float64\n",
      " 40  TOV%    22297 non-null  float64\n",
      " 41  USG%    22368 non-null  float64\n",
      " 42  OWS     27313 non-null  float64\n",
      " 43  DWS     27313 non-null  float64\n",
      " 44  WS      27313 non-null  float64\n",
      " 45  WS/48   26829 non-null  float64\n",
      " 46  OBPM    23525 non-null  float64\n",
      " 47  DBPM    23525 non-null  float64\n",
      " 48  BPM     23525 non-null  float64\n",
      " 49  VORP    23525 non-null  float64\n",
      "dtypes: float64(47), object(3)\n",
      "memory usage: 10.6+ MB\n"
     ]
    }
   ],
   "source": [
    "seasons_stats.info()"
   ]
  },
  {
   "cell_type": "code",
   "execution_count": 7,
   "id": "6f86a958",
   "metadata": {
    "execution": {
     "iopub.execute_input": "2022-05-20T04:33:07.149529Z",
     "iopub.status.busy": "2022-05-20T04:33:07.148931Z",
     "iopub.status.idle": "2022-05-20T04:33:07.341374Z",
     "shell.execute_reply": "2022-05-20T04:33:07.340528Z"
    },
    "id": "_VMkbqIkDIBg",
    "outputId": "ddcbf6d9-b0f8-42ac-cddc-99351a7bb490",
    "papermill": {
     "duration": 0.246945,
     "end_time": "2022-05-20T04:33:07.343759",
     "exception": false,
     "start_time": "2022-05-20T04:33:07.096814",
     "status": "completed"
    },
    "tags": []
   },
   "outputs": [
    {
     "data": {
      "text/html": [
       "<div>\n",
       "<style scoped>\n",
       "    .dataframe tbody tr th:only-of-type {\n",
       "        vertical-align: middle;\n",
       "    }\n",
       "\n",
       "    .dataframe tbody tr th {\n",
       "        vertical-align: top;\n",
       "    }\n",
       "\n",
       "    .dataframe thead th {\n",
       "        text-align: right;\n",
       "    }\n",
       "</style>\n",
       "<table border=\"1\" class=\"dataframe\">\n",
       "  <thead>\n",
       "    <tr style=\"text-align: right;\">\n",
       "      <th></th>\n",
       "      <th>Year</th>\n",
       "      <th>Age</th>\n",
       "      <th>G</th>\n",
       "      <th>GS</th>\n",
       "      <th>MP</th>\n",
       "      <th>FG</th>\n",
       "      <th>FGA</th>\n",
       "      <th>FG%</th>\n",
       "      <th>3P</th>\n",
       "      <th>3PA</th>\n",
       "      <th>...</th>\n",
       "      <th>TOV%</th>\n",
       "      <th>USG%</th>\n",
       "      <th>OWS</th>\n",
       "      <th>DWS</th>\n",
       "      <th>WS</th>\n",
       "      <th>WS/48</th>\n",
       "      <th>OBPM</th>\n",
       "      <th>DBPM</th>\n",
       "      <th>BPM</th>\n",
       "      <th>VORP</th>\n",
       "    </tr>\n",
       "  </thead>\n",
       "  <tbody>\n",
       "    <tr>\n",
       "      <th>count</th>\n",
       "      <td>27352.000000</td>\n",
       "      <td>27344.000000</td>\n",
       "      <td>27352.000000</td>\n",
       "      <td>20961.000000</td>\n",
       "      <td>26866.00000</td>\n",
       "      <td>27352.000000</td>\n",
       "      <td>27352.000000</td>\n",
       "      <td>27239.000000</td>\n",
       "      <td>21655.000000</td>\n",
       "      <td>21655.000000</td>\n",
       "      <td>...</td>\n",
       "      <td>22297.000000</td>\n",
       "      <td>22368.000000</td>\n",
       "      <td>27313.000000</td>\n",
       "      <td>27313.000000</td>\n",
       "      <td>27313.000000</td>\n",
       "      <td>26829.000000</td>\n",
       "      <td>23525.000000</td>\n",
       "      <td>23525.000000</td>\n",
       "      <td>23525.000000</td>\n",
       "      <td>23525.000000</td>\n",
       "    </tr>\n",
       "    <tr>\n",
       "      <th>mean</th>\n",
       "      <td>1995.279614</td>\n",
       "      <td>26.597608</td>\n",
       "      <td>49.800271</td>\n",
       "      <td>22.931969</td>\n",
       "      <td>1179.36924</td>\n",
       "      <td>191.013052</td>\n",
       "      <td>420.671688</td>\n",
       "      <td>0.431854</td>\n",
       "      <td>24.944401</td>\n",
       "      <td>70.984853</td>\n",
       "      <td>...</td>\n",
       "      <td>14.797533</td>\n",
       "      <td>18.851641</td>\n",
       "      <td>1.227214</td>\n",
       "      <td>1.195819</td>\n",
       "      <td>2.424208</td>\n",
       "      <td>0.065659</td>\n",
       "      <td>-1.747643</td>\n",
       "      <td>-0.512548</td>\n",
       "      <td>-2.260089</td>\n",
       "      <td>0.544982</td>\n",
       "    </tr>\n",
       "    <tr>\n",
       "      <th>std</th>\n",
       "      <td>18.403073</td>\n",
       "      <td>3.873533</td>\n",
       "      <td>26.516151</td>\n",
       "      <td>28.166115</td>\n",
       "      <td>928.76463</td>\n",
       "      <td>185.558391</td>\n",
       "      <td>392.464513</td>\n",
       "      <td>0.097926</td>\n",
       "      <td>41.307258</td>\n",
       "      <td>109.553575</td>\n",
       "      <td>...</td>\n",
       "      <td>6.925300</td>\n",
       "      <td>5.484929</td>\n",
       "      <td>2.091940</td>\n",
       "      <td>1.244676</td>\n",
       "      <td>3.001926</td>\n",
       "      <td>0.104268</td>\n",
       "      <td>4.042330</td>\n",
       "      <td>2.244615</td>\n",
       "      <td>5.013543</td>\n",
       "      <td>1.309428</td>\n",
       "    </tr>\n",
       "    <tr>\n",
       "      <th>min</th>\n",
       "      <td>1950.000000</td>\n",
       "      <td>18.000000</td>\n",
       "      <td>1.000000</td>\n",
       "      <td>0.000000</td>\n",
       "      <td>0.00000</td>\n",
       "      <td>0.000000</td>\n",
       "      <td>0.000000</td>\n",
       "      <td>0.000000</td>\n",
       "      <td>0.000000</td>\n",
       "      <td>0.000000</td>\n",
       "      <td>...</td>\n",
       "      <td>0.000000</td>\n",
       "      <td>0.000000</td>\n",
       "      <td>-5.100000</td>\n",
       "      <td>-1.000000</td>\n",
       "      <td>-2.800000</td>\n",
       "      <td>-2.519000</td>\n",
       "      <td>-73.800000</td>\n",
       "      <td>-31.100000</td>\n",
       "      <td>-86.700000</td>\n",
       "      <td>-2.600000</td>\n",
       "    </tr>\n",
       "    <tr>\n",
       "      <th>25%</th>\n",
       "      <td>1983.000000</td>\n",
       "      <td>24.000000</td>\n",
       "      <td>26.000000</td>\n",
       "      <td>0.000000</td>\n",
       "      <td>325.00000</td>\n",
       "      <td>39.000000</td>\n",
       "      <td>95.000000</td>\n",
       "      <td>0.393000</td>\n",
       "      <td>0.000000</td>\n",
       "      <td>1.000000</td>\n",
       "      <td>...</td>\n",
       "      <td>11.100000</td>\n",
       "      <td>15.300000</td>\n",
       "      <td>-0.100000</td>\n",
       "      <td>0.200000</td>\n",
       "      <td>0.200000</td>\n",
       "      <td>0.031000</td>\n",
       "      <td>-3.400000</td>\n",
       "      <td>-1.600000</td>\n",
       "      <td>-4.100000</td>\n",
       "      <td>-0.200000</td>\n",
       "    </tr>\n",
       "    <tr>\n",
       "      <th>50%</th>\n",
       "      <td>1998.000000</td>\n",
       "      <td>26.000000</td>\n",
       "      <td>56.000000</td>\n",
       "      <td>8.000000</td>\n",
       "      <td>1018.00000</td>\n",
       "      <td>136.000000</td>\n",
       "      <td>309.000000</td>\n",
       "      <td>0.439000</td>\n",
       "      <td>4.000000</td>\n",
       "      <td>15.000000</td>\n",
       "      <td>...</td>\n",
       "      <td>13.900000</td>\n",
       "      <td>18.500000</td>\n",
       "      <td>0.400000</td>\n",
       "      <td>0.800000</td>\n",
       "      <td>1.300000</td>\n",
       "      <td>0.076000</td>\n",
       "      <td>-1.500000</td>\n",
       "      <td>-0.500000</td>\n",
       "      <td>-1.800000</td>\n",
       "      <td>0.000000</td>\n",
       "    </tr>\n",
       "    <tr>\n",
       "      <th>75%</th>\n",
       "      <td>2011.000000</td>\n",
       "      <td>29.000000</td>\n",
       "      <td>75.000000</td>\n",
       "      <td>43.000000</td>\n",
       "      <td>1917.00000</td>\n",
       "      <td>291.000000</td>\n",
       "      <td>645.000000</td>\n",
       "      <td>0.481000</td>\n",
       "      <td>33.000000</td>\n",
       "      <td>99.000000</td>\n",
       "      <td>...</td>\n",
       "      <td>17.400000</td>\n",
       "      <td>22.100000</td>\n",
       "      <td>1.900000</td>\n",
       "      <td>1.800000</td>\n",
       "      <td>3.700000</td>\n",
       "      <td>0.115000</td>\n",
       "      <td>0.300000</td>\n",
       "      <td>0.700000</td>\n",
       "      <td>0.300000</td>\n",
       "      <td>0.800000</td>\n",
       "    </tr>\n",
       "    <tr>\n",
       "      <th>max</th>\n",
       "      <td>2021.000000</td>\n",
       "      <td>44.000000</td>\n",
       "      <td>88.000000</td>\n",
       "      <td>83.000000</td>\n",
       "      <td>3882.00000</td>\n",
       "      <td>1597.000000</td>\n",
       "      <td>3159.000000</td>\n",
       "      <td>1.000000</td>\n",
       "      <td>402.000000</td>\n",
       "      <td>1028.000000</td>\n",
       "      <td>...</td>\n",
       "      <td>100.000000</td>\n",
       "      <td>100.000000</td>\n",
       "      <td>18.300000</td>\n",
       "      <td>16.000000</td>\n",
       "      <td>25.400000</td>\n",
       "      <td>2.712000</td>\n",
       "      <td>199.400000</td>\n",
       "      <td>46.800000</td>\n",
       "      <td>242.200000</td>\n",
       "      <td>12.400000</td>\n",
       "    </tr>\n",
       "  </tbody>\n",
       "</table>\n",
       "<p>8 rows × 47 columns</p>\n",
       "</div>"
      ],
      "text/plain": [
       "               Year           Age             G            GS           MP  \\\n",
       "count  27352.000000  27344.000000  27352.000000  20961.000000  26866.00000   \n",
       "mean    1995.279614     26.597608     49.800271     22.931969   1179.36924   \n",
       "std       18.403073      3.873533     26.516151     28.166115    928.76463   \n",
       "min     1950.000000     18.000000      1.000000      0.000000      0.00000   \n",
       "25%     1983.000000     24.000000     26.000000      0.000000    325.00000   \n",
       "50%     1998.000000     26.000000     56.000000      8.000000   1018.00000   \n",
       "75%     2011.000000     29.000000     75.000000     43.000000   1917.00000   \n",
       "max     2021.000000     44.000000     88.000000     83.000000   3882.00000   \n",
       "\n",
       "                 FG           FGA           FG%            3P           3PA  \\\n",
       "count  27352.000000  27352.000000  27239.000000  21655.000000  21655.000000   \n",
       "mean     191.013052    420.671688      0.431854     24.944401     70.984853   \n",
       "std      185.558391    392.464513      0.097926     41.307258    109.553575   \n",
       "min        0.000000      0.000000      0.000000      0.000000      0.000000   \n",
       "25%       39.000000     95.000000      0.393000      0.000000      1.000000   \n",
       "50%      136.000000    309.000000      0.439000      4.000000     15.000000   \n",
       "75%      291.000000    645.000000      0.481000     33.000000     99.000000   \n",
       "max     1597.000000   3159.000000      1.000000    402.000000   1028.000000   \n",
       "\n",
       "       ...          TOV%          USG%           OWS           DWS  \\\n",
       "count  ...  22297.000000  22368.000000  27313.000000  27313.000000   \n",
       "mean   ...     14.797533     18.851641      1.227214      1.195819   \n",
       "std    ...      6.925300      5.484929      2.091940      1.244676   \n",
       "min    ...      0.000000      0.000000     -5.100000     -1.000000   \n",
       "25%    ...     11.100000     15.300000     -0.100000      0.200000   \n",
       "50%    ...     13.900000     18.500000      0.400000      0.800000   \n",
       "75%    ...     17.400000     22.100000      1.900000      1.800000   \n",
       "max    ...    100.000000    100.000000     18.300000     16.000000   \n",
       "\n",
       "                 WS         WS/48          OBPM          DBPM           BPM  \\\n",
       "count  27313.000000  26829.000000  23525.000000  23525.000000  23525.000000   \n",
       "mean       2.424208      0.065659     -1.747643     -0.512548     -2.260089   \n",
       "std        3.001926      0.104268      4.042330      2.244615      5.013543   \n",
       "min       -2.800000     -2.519000    -73.800000    -31.100000    -86.700000   \n",
       "25%        0.200000      0.031000     -3.400000     -1.600000     -4.100000   \n",
       "50%        1.300000      0.076000     -1.500000     -0.500000     -1.800000   \n",
       "75%        3.700000      0.115000      0.300000      0.700000      0.300000   \n",
       "max       25.400000      2.712000    199.400000     46.800000    242.200000   \n",
       "\n",
       "               VORP  \n",
       "count  23525.000000  \n",
       "mean       0.544982  \n",
       "std        1.309428  \n",
       "min       -2.600000  \n",
       "25%       -0.200000  \n",
       "50%        0.000000  \n",
       "75%        0.800000  \n",
       "max       12.400000  \n",
       "\n",
       "[8 rows x 47 columns]"
      ]
     },
     "execution_count": 7,
     "metadata": {},
     "output_type": "execute_result"
    }
   ],
   "source": [
    "#statistical summary of numerical columns in seasons_stats\n",
    "\n",
    "seasons_stats.describe()"
   ]
  },
  {
   "cell_type": "markdown",
   "id": "a531035b",
   "metadata": {
    "id": "eyDR1f4PgTFd",
    "papermill": {
     "duration": 0.050866,
     "end_time": "2022-05-20T04:33:07.446146",
     "exception": false,
     "start_time": "2022-05-20T04:33:07.395280",
     "status": "completed"
    },
    "tags": []
   },
   "source": [
    "## Data Cleaning and Initial Preperation"
   ]
  },
  {
   "cell_type": "code",
   "execution_count": 8,
   "id": "b09d5730",
   "metadata": {
    "execution": {
     "iopub.execute_input": "2022-05-20T04:33:07.550900Z",
     "iopub.status.busy": "2022-05-20T04:33:07.550101Z",
     "iopub.status.idle": "2022-05-20T04:33:07.582768Z",
     "shell.execute_reply": "2022-05-20T04:33:07.581915Z"
    },
    "id": "9jyJHzYBJ6RB",
    "outputId": "60b94000-5802-4e90-8683-c01715d29a5f",
    "papermill": {
     "duration": 0.088066,
     "end_time": "2022-05-20T04:33:07.585265",
     "exception": false,
     "start_time": "2022-05-20T04:33:07.497199",
     "status": "completed"
    },
    "tags": []
   },
   "outputs": [
    {
     "data": {
      "text/html": [
       "<div>\n",
       "<style scoped>\n",
       "    .dataframe tbody tr th:only-of-type {\n",
       "        vertical-align: middle;\n",
       "    }\n",
       "\n",
       "    .dataframe tbody tr th {\n",
       "        vertical-align: top;\n",
       "    }\n",
       "\n",
       "    .dataframe thead th {\n",
       "        text-align: right;\n",
       "    }\n",
       "</style>\n",
       "<table border=\"1\" class=\"dataframe\">\n",
       "  <thead>\n",
       "    <tr style=\"text-align: right;\">\n",
       "      <th></th>\n",
       "      <th>Year</th>\n",
       "      <th>Player</th>\n",
       "      <th>Pos</th>\n",
       "      <th>Age</th>\n",
       "      <th>Tm</th>\n",
       "      <th>G</th>\n",
       "      <th>GS</th>\n",
       "      <th>MP</th>\n",
       "      <th>FG</th>\n",
       "      <th>FGA</th>\n",
       "      <th>...</th>\n",
       "      <th>TOV%</th>\n",
       "      <th>USG%</th>\n",
       "      <th>OWS</th>\n",
       "      <th>DWS</th>\n",
       "      <th>WS</th>\n",
       "      <th>WS/48</th>\n",
       "      <th>OBPM</th>\n",
       "      <th>DBPM</th>\n",
       "      <th>BPM</th>\n",
       "      <th>VORP</th>\n",
       "    </tr>\n",
       "  </thead>\n",
       "  <tbody>\n",
       "    <tr>\n",
       "      <th>0</th>\n",
       "      <td>1950.0</td>\n",
       "      <td>Curly Armstrong</td>\n",
       "      <td>G-F</td>\n",
       "      <td>31.0</td>\n",
       "      <td>FTW</td>\n",
       "      <td>63.0</td>\n",
       "      <td>NaN</td>\n",
       "      <td>NaN</td>\n",
       "      <td>144.0</td>\n",
       "      <td>516.0</td>\n",
       "      <td>...</td>\n",
       "      <td>NaN</td>\n",
       "      <td>NaN</td>\n",
       "      <td>-0.1</td>\n",
       "      <td>3.6</td>\n",
       "      <td>3.5</td>\n",
       "      <td>NaN</td>\n",
       "      <td>NaN</td>\n",
       "      <td>NaN</td>\n",
       "      <td>NaN</td>\n",
       "      <td>NaN</td>\n",
       "    </tr>\n",
       "    <tr>\n",
       "      <th>1</th>\n",
       "      <td>1950.0</td>\n",
       "      <td>Cliff Barker</td>\n",
       "      <td>SG</td>\n",
       "      <td>29.0</td>\n",
       "      <td>INO</td>\n",
       "      <td>49.0</td>\n",
       "      <td>NaN</td>\n",
       "      <td>NaN</td>\n",
       "      <td>102.0</td>\n",
       "      <td>274.0</td>\n",
       "      <td>...</td>\n",
       "      <td>NaN</td>\n",
       "      <td>NaN</td>\n",
       "      <td>1.6</td>\n",
       "      <td>0.6</td>\n",
       "      <td>2.2</td>\n",
       "      <td>NaN</td>\n",
       "      <td>NaN</td>\n",
       "      <td>NaN</td>\n",
       "      <td>NaN</td>\n",
       "      <td>NaN</td>\n",
       "    </tr>\n",
       "    <tr>\n",
       "      <th>2</th>\n",
       "      <td>1950.0</td>\n",
       "      <td>Leo Barnhorst</td>\n",
       "      <td>SF</td>\n",
       "      <td>25.0</td>\n",
       "      <td>CHS</td>\n",
       "      <td>67.0</td>\n",
       "      <td>NaN</td>\n",
       "      <td>NaN</td>\n",
       "      <td>174.0</td>\n",
       "      <td>499.0</td>\n",
       "      <td>...</td>\n",
       "      <td>NaN</td>\n",
       "      <td>NaN</td>\n",
       "      <td>0.9</td>\n",
       "      <td>2.8</td>\n",
       "      <td>3.6</td>\n",
       "      <td>NaN</td>\n",
       "      <td>NaN</td>\n",
       "      <td>NaN</td>\n",
       "      <td>NaN</td>\n",
       "      <td>NaN</td>\n",
       "    </tr>\n",
       "    <tr>\n",
       "      <th>3</th>\n",
       "      <td>1950.0</td>\n",
       "      <td>Ed Bartels</td>\n",
       "      <td>F</td>\n",
       "      <td>24.0</td>\n",
       "      <td>TOT</td>\n",
       "      <td>15.0</td>\n",
       "      <td>NaN</td>\n",
       "      <td>NaN</td>\n",
       "      <td>22.0</td>\n",
       "      <td>86.0</td>\n",
       "      <td>...</td>\n",
       "      <td>NaN</td>\n",
       "      <td>NaN</td>\n",
       "      <td>-0.5</td>\n",
       "      <td>-0.1</td>\n",
       "      <td>-0.6</td>\n",
       "      <td>NaN</td>\n",
       "      <td>NaN</td>\n",
       "      <td>NaN</td>\n",
       "      <td>NaN</td>\n",
       "      <td>NaN</td>\n",
       "    </tr>\n",
       "    <tr>\n",
       "      <th>4</th>\n",
       "      <td>1950.0</td>\n",
       "      <td>Ed Bartels</td>\n",
       "      <td>F</td>\n",
       "      <td>24.0</td>\n",
       "      <td>DNN</td>\n",
       "      <td>13.0</td>\n",
       "      <td>NaN</td>\n",
       "      <td>NaN</td>\n",
       "      <td>21.0</td>\n",
       "      <td>82.0</td>\n",
       "      <td>...</td>\n",
       "      <td>NaN</td>\n",
       "      <td>NaN</td>\n",
       "      <td>-0.5</td>\n",
       "      <td>-0.1</td>\n",
       "      <td>-0.6</td>\n",
       "      <td>NaN</td>\n",
       "      <td>NaN</td>\n",
       "      <td>NaN</td>\n",
       "      <td>NaN</td>\n",
       "      <td>NaN</td>\n",
       "    </tr>\n",
       "  </tbody>\n",
       "</table>\n",
       "<p>5 rows × 50 columns</p>\n",
       "</div>"
      ],
      "text/plain": [
       "     Year           Player  Pos   Age   Tm     G  GS  MP     FG    FGA  ...  \\\n",
       "0  1950.0  Curly Armstrong  G-F  31.0  FTW  63.0 NaN NaN  144.0  516.0  ...   \n",
       "1  1950.0     Cliff Barker   SG  29.0  INO  49.0 NaN NaN  102.0  274.0  ...   \n",
       "2  1950.0    Leo Barnhorst   SF  25.0  CHS  67.0 NaN NaN  174.0  499.0  ...   \n",
       "3  1950.0       Ed Bartels    F  24.0  TOT  15.0 NaN NaN   22.0   86.0  ...   \n",
       "4  1950.0       Ed Bartels    F  24.0  DNN  13.0 NaN NaN   21.0   82.0  ...   \n",
       "\n",
       "   TOV%  USG%  OWS  DWS   WS  WS/48  OBPM  DBPM  BPM  VORP  \n",
       "0   NaN   NaN -0.1  3.6  3.5    NaN   NaN   NaN  NaN   NaN  \n",
       "1   NaN   NaN  1.6  0.6  2.2    NaN   NaN   NaN  NaN   NaN  \n",
       "2   NaN   NaN  0.9  2.8  3.6    NaN   NaN   NaN  NaN   NaN  \n",
       "3   NaN   NaN -0.5 -0.1 -0.6    NaN   NaN   NaN  NaN   NaN  \n",
       "4   NaN   NaN -0.5 -0.1 -0.6    NaN   NaN   NaN  NaN   NaN  \n",
       "\n",
       "[5 rows x 50 columns]"
      ]
     },
     "execution_count": 8,
     "metadata": {},
     "output_type": "execute_result"
    }
   ],
   "source": [
    "df = seasons_stats.copy()\n",
    "df.head()"
   ]
  },
  {
   "cell_type": "code",
   "execution_count": 9,
   "id": "47374954",
   "metadata": {
    "execution": {
     "iopub.execute_input": "2022-05-20T04:33:07.692537Z",
     "iopub.status.busy": "2022-05-20T04:33:07.692235Z",
     "iopub.status.idle": "2022-05-20T04:33:07.708067Z",
     "shell.execute_reply": "2022-05-20T04:33:07.707210Z"
    },
    "id": "CoFBlbznBotQ",
    "outputId": "fe574cb1-4201-45c5-f4cd-6f24907fa3b3",
    "papermill": {
     "duration": 0.071331,
     "end_time": "2022-05-20T04:33:07.710246",
     "exception": false,
     "start_time": "2022-05-20T04:33:07.638915",
     "status": "completed"
    },
    "tags": []
   },
   "outputs": [
    {
     "data": {
      "text/plain": [
       "True"
      ]
     },
     "execution_count": 9,
     "metadata": {},
     "output_type": "execute_result"
    }
   ],
   "source": [
    "#cheking for duplicates in Player data\n",
    "\n",
    "players.duplicated().any()"
   ]
  },
  {
   "cell_type": "code",
   "execution_count": 10,
   "id": "c59a452e",
   "metadata": {
    "execution": {
     "iopub.execute_input": "2022-05-20T04:33:07.817972Z",
     "iopub.status.busy": "2022-05-20T04:33:07.817369Z",
     "iopub.status.idle": "2022-05-20T04:33:07.835230Z",
     "shell.execute_reply": "2022-05-20T04:33:07.834328Z"
    },
    "id": "JqPq3qwKJUfR",
    "outputId": "fd613012-21ec-4c5b-d724-c6159e4535bb",
    "papermill": {
     "duration": 0.074709,
     "end_time": "2022-05-20T04:33:07.837420",
     "exception": false,
     "start_time": "2022-05-20T04:33:07.762711",
     "status": "completed"
    },
    "tags": []
   },
   "outputs": [
    {
     "data": {
      "text/plain": [
       "False"
      ]
     },
     "execution_count": 10,
     "metadata": {},
     "output_type": "execute_result"
    }
   ],
   "source": [
    "#dropping duplicates\n",
    "\n",
    "players = players[~players.duplicated()]\n",
    "players.duplicated().any()"
   ]
  },
  {
   "cell_type": "code",
   "execution_count": 11,
   "id": "04835613",
   "metadata": {
    "execution": {
     "iopub.execute_input": "2022-05-20T04:33:07.946572Z",
     "iopub.status.busy": "2022-05-20T04:33:07.946006Z",
     "iopub.status.idle": "2022-05-20T04:33:08.007645Z",
     "shell.execute_reply": "2022-05-20T04:33:08.006772Z"
    },
    "id": "1JCJFdU5g_mh",
    "outputId": "227a11a3-5ab9-4841-865e-0d11ef64da9f",
    "papermill": {
     "duration": 0.119576,
     "end_time": "2022-05-20T04:33:08.010090",
     "exception": false,
     "start_time": "2022-05-20T04:33:07.890514",
     "status": "completed"
    },
    "tags": []
   },
   "outputs": [
    {
     "data": {
      "text/plain": [
       "False"
      ]
     },
     "execution_count": 11,
     "metadata": {},
     "output_type": "execute_result"
    }
   ],
   "source": [
    "#cheking for duplicates in seasons' data\n",
    "\n",
    "df.duplicated().any()"
   ]
  },
  {
   "cell_type": "markdown",
   "id": "9b57a48f",
   "metadata": {
    "id": "kmYwZ66j0c0f",
    "papermill": {
     "duration": 0.053673,
     "end_time": "2022-05-20T04:33:08.116927",
     "exception": false,
     "start_time": "2022-05-20T04:33:08.063254",
     "status": "completed"
    },
    "tags": []
   },
   "source": [
    "\n",
    "\n",
    "> There are no duplicate records in dataset now.\n",
    "\n"
   ]
  },
  {
   "cell_type": "code",
   "execution_count": 12,
   "id": "6a9ff064",
   "metadata": {
    "execution": {
     "iopub.execute_input": "2022-05-20T04:33:08.226080Z",
     "iopub.status.busy": "2022-05-20T04:33:08.225354Z",
     "iopub.status.idle": "2022-05-20T04:33:08.284013Z",
     "shell.execute_reply": "2022-05-20T04:33:08.283360Z"
    },
    "id": "wbPXt_cQi5nu",
    "outputId": "c601ab38-8a2c-44fc-e21a-c7443ea57b7f",
    "papermill": {
     "duration": 0.115559,
     "end_time": "2022-05-20T04:33:08.286232",
     "exception": false,
     "start_time": "2022-05-20T04:33:08.170673",
     "status": "completed"
    },
    "tags": []
   },
   "outputs": [
    {
     "data": {
      "text/html": [
       "<div>\n",
       "<style scoped>\n",
       "    .dataframe tbody tr th:only-of-type {\n",
       "        vertical-align: middle;\n",
       "    }\n",
       "\n",
       "    .dataframe tbody tr th {\n",
       "        vertical-align: top;\n",
       "    }\n",
       "\n",
       "    .dataframe thead th {\n",
       "        text-align: right;\n",
       "    }\n",
       "</style>\n",
       "<table border=\"1\" class=\"dataframe\">\n",
       "  <thead>\n",
       "    <tr style=\"text-align: right;\">\n",
       "      <th></th>\n",
       "      <th>Total Missing</th>\n",
       "      <th>Percent Missing</th>\n",
       "    </tr>\n",
       "  </thead>\n",
       "  <tbody>\n",
       "    <tr>\n",
       "      <th>3P%</th>\n",
       "      <td>9390</td>\n",
       "      <td>34.33</td>\n",
       "    </tr>\n",
       "    <tr>\n",
       "      <th>GS</th>\n",
       "      <td>6391</td>\n",
       "      <td>23.37</td>\n",
       "    </tr>\n",
       "    <tr>\n",
       "      <th>3PAr</th>\n",
       "      <td>5799</td>\n",
       "      <td>21.20</td>\n",
       "    </tr>\n",
       "    <tr>\n",
       "      <th>3P</th>\n",
       "      <td>5697</td>\n",
       "      <td>20.83</td>\n",
       "    </tr>\n",
       "    <tr>\n",
       "      <th>3PA</th>\n",
       "      <td>5697</td>\n",
       "      <td>20.83</td>\n",
       "    </tr>\n",
       "    <tr>\n",
       "      <th>TOV%</th>\n",
       "      <td>5055</td>\n",
       "      <td>18.48</td>\n",
       "    </tr>\n",
       "    <tr>\n",
       "      <th>USG%</th>\n",
       "      <td>4984</td>\n",
       "      <td>18.22</td>\n",
       "    </tr>\n",
       "    <tr>\n",
       "      <th>TOV</th>\n",
       "      <td>4979</td>\n",
       "      <td>18.20</td>\n",
       "    </tr>\n",
       "    <tr>\n",
       "      <th>STL%</th>\n",
       "      <td>3832</td>\n",
       "      <td>14.01</td>\n",
       "    </tr>\n",
       "    <tr>\n",
       "      <th>BLK%</th>\n",
       "      <td>3832</td>\n",
       "      <td>14.01</td>\n",
       "    </tr>\n",
       "    <tr>\n",
       "      <th>ORB%</th>\n",
       "      <td>3832</td>\n",
       "      <td>14.01</td>\n",
       "    </tr>\n",
       "    <tr>\n",
       "      <th>DRB%</th>\n",
       "      <td>3832</td>\n",
       "      <td>14.01</td>\n",
       "    </tr>\n",
       "    <tr>\n",
       "      <th>BLK</th>\n",
       "      <td>3827</td>\n",
       "      <td>13.99</td>\n",
       "    </tr>\n",
       "    <tr>\n",
       "      <th>STL</th>\n",
       "      <td>3827</td>\n",
       "      <td>13.99</td>\n",
       "    </tr>\n",
       "    <tr>\n",
       "      <th>ORB</th>\n",
       "      <td>3827</td>\n",
       "      <td>13.99</td>\n",
       "    </tr>\n",
       "    <tr>\n",
       "      <th>OBPM</th>\n",
       "      <td>3827</td>\n",
       "      <td>13.99</td>\n",
       "    </tr>\n",
       "    <tr>\n",
       "      <th>DBPM</th>\n",
       "      <td>3827</td>\n",
       "      <td>13.99</td>\n",
       "    </tr>\n",
       "    <tr>\n",
       "      <th>BPM</th>\n",
       "      <td>3827</td>\n",
       "      <td>13.99</td>\n",
       "    </tr>\n",
       "    <tr>\n",
       "      <th>DRB</th>\n",
       "      <td>3827</td>\n",
       "      <td>13.99</td>\n",
       "    </tr>\n",
       "    <tr>\n",
       "      <th>VORP</th>\n",
       "      <td>3827</td>\n",
       "      <td>13.99</td>\n",
       "    </tr>\n",
       "    <tr>\n",
       "      <th>TRB%</th>\n",
       "      <td>3053</td>\n",
       "      <td>11.16</td>\n",
       "    </tr>\n",
       "    <tr>\n",
       "      <th>AST%</th>\n",
       "      <td>2069</td>\n",
       "      <td>7.56</td>\n",
       "    </tr>\n",
       "    <tr>\n",
       "      <th>FT%</th>\n",
       "      <td>1021</td>\n",
       "      <td>3.73</td>\n",
       "    </tr>\n",
       "    <tr>\n",
       "      <th>PER</th>\n",
       "      <td>523</td>\n",
       "      <td>1.91</td>\n",
       "    </tr>\n",
       "    <tr>\n",
       "      <th>WS/48</th>\n",
       "      <td>523</td>\n",
       "      <td>1.91</td>\n",
       "    </tr>\n",
       "    <tr>\n",
       "      <th>MP</th>\n",
       "      <td>486</td>\n",
       "      <td>1.78</td>\n",
       "    </tr>\n",
       "    <tr>\n",
       "      <th>TRB</th>\n",
       "      <td>312</td>\n",
       "      <td>1.14</td>\n",
       "    </tr>\n",
       "    <tr>\n",
       "      <th>2P%</th>\n",
       "      <td>173</td>\n",
       "      <td>0.63</td>\n",
       "    </tr>\n",
       "    <tr>\n",
       "      <th>FTr</th>\n",
       "      <td>113</td>\n",
       "      <td>0.41</td>\n",
       "    </tr>\n",
       "    <tr>\n",
       "      <th>FG%</th>\n",
       "      <td>113</td>\n",
       "      <td>0.41</td>\n",
       "    </tr>\n",
       "    <tr>\n",
       "      <th>eFG%</th>\n",
       "      <td>113</td>\n",
       "      <td>0.41</td>\n",
       "    </tr>\n",
       "    <tr>\n",
       "      <th>TS%</th>\n",
       "      <td>100</td>\n",
       "      <td>0.37</td>\n",
       "    </tr>\n",
       "    <tr>\n",
       "      <th>WS</th>\n",
       "      <td>39</td>\n",
       "      <td>0.14</td>\n",
       "    </tr>\n",
       "    <tr>\n",
       "      <th>DWS</th>\n",
       "      <td>39</td>\n",
       "      <td>0.14</td>\n",
       "    </tr>\n",
       "    <tr>\n",
       "      <th>OWS</th>\n",
       "      <td>39</td>\n",
       "      <td>0.14</td>\n",
       "    </tr>\n",
       "    <tr>\n",
       "      <th>Age</th>\n",
       "      <td>8</td>\n",
       "      <td>0.03</td>\n",
       "    </tr>\n",
       "    <tr>\n",
       "      <th>PTS</th>\n",
       "      <td>0</td>\n",
       "      <td>0.00</td>\n",
       "    </tr>\n",
       "    <tr>\n",
       "      <th>G</th>\n",
       "      <td>0</td>\n",
       "      <td>0.00</td>\n",
       "    </tr>\n",
       "    <tr>\n",
       "      <th>Pos</th>\n",
       "      <td>0</td>\n",
       "      <td>0.00</td>\n",
       "    </tr>\n",
       "    <tr>\n",
       "      <th>Tm</th>\n",
       "      <td>0</td>\n",
       "      <td>0.00</td>\n",
       "    </tr>\n",
       "    <tr>\n",
       "      <th>FT</th>\n",
       "      <td>0</td>\n",
       "      <td>0.00</td>\n",
       "    </tr>\n",
       "    <tr>\n",
       "      <th>AST</th>\n",
       "      <td>0</td>\n",
       "      <td>0.00</td>\n",
       "    </tr>\n",
       "    <tr>\n",
       "      <th>FG</th>\n",
       "      <td>0</td>\n",
       "      <td>0.00</td>\n",
       "    </tr>\n",
       "    <tr>\n",
       "      <th>FGA</th>\n",
       "      <td>0</td>\n",
       "      <td>0.00</td>\n",
       "    </tr>\n",
       "    <tr>\n",
       "      <th>Player</th>\n",
       "      <td>0</td>\n",
       "      <td>0.00</td>\n",
       "    </tr>\n",
       "    <tr>\n",
       "      <th>FTA</th>\n",
       "      <td>0</td>\n",
       "      <td>0.00</td>\n",
       "    </tr>\n",
       "    <tr>\n",
       "      <th>2P</th>\n",
       "      <td>0</td>\n",
       "      <td>0.00</td>\n",
       "    </tr>\n",
       "    <tr>\n",
       "      <th>PF</th>\n",
       "      <td>0</td>\n",
       "      <td>0.00</td>\n",
       "    </tr>\n",
       "    <tr>\n",
       "      <th>2PA</th>\n",
       "      <td>0</td>\n",
       "      <td>0.00</td>\n",
       "    </tr>\n",
       "    <tr>\n",
       "      <th>Year</th>\n",
       "      <td>0</td>\n",
       "      <td>0.00</td>\n",
       "    </tr>\n",
       "  </tbody>\n",
       "</table>\n",
       "</div>"
      ],
      "text/plain": [
       "        Total Missing  Percent Missing\n",
       "3P%              9390            34.33\n",
       "GS               6391            23.37\n",
       "3PAr             5799            21.20\n",
       "3P               5697            20.83\n",
       "3PA              5697            20.83\n",
       "TOV%             5055            18.48\n",
       "USG%             4984            18.22\n",
       "TOV              4979            18.20\n",
       "STL%             3832            14.01\n",
       "BLK%             3832            14.01\n",
       "ORB%             3832            14.01\n",
       "DRB%             3832            14.01\n",
       "BLK              3827            13.99\n",
       "STL              3827            13.99\n",
       "ORB              3827            13.99\n",
       "OBPM             3827            13.99\n",
       "DBPM             3827            13.99\n",
       "BPM              3827            13.99\n",
       "DRB              3827            13.99\n",
       "VORP             3827            13.99\n",
       "TRB%             3053            11.16\n",
       "AST%             2069             7.56\n",
       "FT%              1021             3.73\n",
       "PER               523             1.91\n",
       "WS/48             523             1.91\n",
       "MP                486             1.78\n",
       "TRB               312             1.14\n",
       "2P%               173             0.63\n",
       "FTr               113             0.41\n",
       "FG%               113             0.41\n",
       "eFG%              113             0.41\n",
       "TS%               100             0.37\n",
       "WS                 39             0.14\n",
       "DWS                39             0.14\n",
       "OWS                39             0.14\n",
       "Age                 8             0.03\n",
       "PTS                 0             0.00\n",
       "G                   0             0.00\n",
       "Pos                 0             0.00\n",
       "Tm                  0             0.00\n",
       "FT                  0             0.00\n",
       "AST                 0             0.00\n",
       "FG                  0             0.00\n",
       "FGA                 0             0.00\n",
       "Player              0             0.00\n",
       "FTA                 0             0.00\n",
       "2P                  0             0.00\n",
       "PF                  0             0.00\n",
       "2PA                 0             0.00\n",
       "Year                0             0.00"
      ]
     },
     "execution_count": 12,
     "metadata": {},
     "output_type": "execute_result"
    }
   ],
   "source": [
    "#checking missing values\n",
    "\n",
    "total = df.isnull().sum().sort_values(ascending = False)\n",
    "percent = (df.isnull().sum()/df.isnull().count()*100).round(2).sort_values(ascending = False)\n",
    "pd.concat([total, percent], axis=1, keys=['Total Missing', 'Percent Missing'])"
   ]
  },
  {
   "cell_type": "markdown",
   "id": "d7abd707",
   "metadata": {
    "id": "gFsQDkczBmGQ",
    "papermill": {
     "duration": 0.053734,
     "end_time": "2022-05-20T04:33:08.394464",
     "exception": false,
     "start_time": "2022-05-20T04:33:08.340730",
     "status": "completed"
    },
    "tags": []
   },
   "source": [
    "In any given year there are some players who have played for more than one team. For such players there are also records of their cumulative stats for that year. These records can be filtered out. "
   ]
  },
  {
   "cell_type": "code",
   "execution_count": 13,
   "id": "0eab4fdd",
   "metadata": {
    "execution": {
     "iopub.execute_input": "2022-05-20T04:33:08.504243Z",
     "iopub.status.busy": "2022-05-20T04:33:08.503836Z",
     "iopub.status.idle": "2022-05-20T04:33:08.539384Z",
     "shell.execute_reply": "2022-05-20T04:33:08.538424Z"
    },
    "id": "1aJ851TR__Xw",
    "outputId": "4bd7949b-14fa-48c7-e92e-1421163fc63b",
    "papermill": {
     "duration": 0.09303,
     "end_time": "2022-05-20T04:33:08.541524",
     "exception": false,
     "start_time": "2022-05-20T04:33:08.448494",
     "status": "completed"
    },
    "tags": []
   },
   "outputs": [
    {
     "data": {
      "text/html": [
       "<div>\n",
       "<style scoped>\n",
       "    .dataframe tbody tr th:only-of-type {\n",
       "        vertical-align: middle;\n",
       "    }\n",
       "\n",
       "    .dataframe tbody tr th {\n",
       "        vertical-align: top;\n",
       "    }\n",
       "\n",
       "    .dataframe thead th {\n",
       "        text-align: right;\n",
       "    }\n",
       "</style>\n",
       "<table border=\"1\" class=\"dataframe\">\n",
       "  <thead>\n",
       "    <tr style=\"text-align: right;\">\n",
       "      <th></th>\n",
       "      <th>Year</th>\n",
       "      <th>Player</th>\n",
       "      <th>Pos</th>\n",
       "      <th>Age</th>\n",
       "      <th>Tm</th>\n",
       "      <th>G</th>\n",
       "      <th>GS</th>\n",
       "      <th>MP</th>\n",
       "      <th>FG</th>\n",
       "      <th>FGA</th>\n",
       "      <th>...</th>\n",
       "      <th>TOV%</th>\n",
       "      <th>USG%</th>\n",
       "      <th>OWS</th>\n",
       "      <th>DWS</th>\n",
       "      <th>WS</th>\n",
       "      <th>WS/48</th>\n",
       "      <th>OBPM</th>\n",
       "      <th>DBPM</th>\n",
       "      <th>BPM</th>\n",
       "      <th>VORP</th>\n",
       "    </tr>\n",
       "  </thead>\n",
       "  <tbody>\n",
       "    <tr>\n",
       "      <th>0</th>\n",
       "      <td>1950.0</td>\n",
       "      <td>Curly Armstrong</td>\n",
       "      <td>G-F</td>\n",
       "      <td>31.0</td>\n",
       "      <td>FTW</td>\n",
       "      <td>63.0</td>\n",
       "      <td>NaN</td>\n",
       "      <td>NaN</td>\n",
       "      <td>144.0</td>\n",
       "      <td>516.0</td>\n",
       "      <td>...</td>\n",
       "      <td>NaN</td>\n",
       "      <td>NaN</td>\n",
       "      <td>-0.1</td>\n",
       "      <td>3.6</td>\n",
       "      <td>3.5</td>\n",
       "      <td>NaN</td>\n",
       "      <td>NaN</td>\n",
       "      <td>NaN</td>\n",
       "      <td>NaN</td>\n",
       "      <td>NaN</td>\n",
       "    </tr>\n",
       "    <tr>\n",
       "      <th>1</th>\n",
       "      <td>1950.0</td>\n",
       "      <td>Cliff Barker</td>\n",
       "      <td>SG</td>\n",
       "      <td>29.0</td>\n",
       "      <td>INO</td>\n",
       "      <td>49.0</td>\n",
       "      <td>NaN</td>\n",
       "      <td>NaN</td>\n",
       "      <td>102.0</td>\n",
       "      <td>274.0</td>\n",
       "      <td>...</td>\n",
       "      <td>NaN</td>\n",
       "      <td>NaN</td>\n",
       "      <td>1.6</td>\n",
       "      <td>0.6</td>\n",
       "      <td>2.2</td>\n",
       "      <td>NaN</td>\n",
       "      <td>NaN</td>\n",
       "      <td>NaN</td>\n",
       "      <td>NaN</td>\n",
       "      <td>NaN</td>\n",
       "    </tr>\n",
       "    <tr>\n",
       "      <th>2</th>\n",
       "      <td>1950.0</td>\n",
       "      <td>Leo Barnhorst</td>\n",
       "      <td>SF</td>\n",
       "      <td>25.0</td>\n",
       "      <td>CHS</td>\n",
       "      <td>67.0</td>\n",
       "      <td>NaN</td>\n",
       "      <td>NaN</td>\n",
       "      <td>174.0</td>\n",
       "      <td>499.0</td>\n",
       "      <td>...</td>\n",
       "      <td>NaN</td>\n",
       "      <td>NaN</td>\n",
       "      <td>0.9</td>\n",
       "      <td>2.8</td>\n",
       "      <td>3.6</td>\n",
       "      <td>NaN</td>\n",
       "      <td>NaN</td>\n",
       "      <td>NaN</td>\n",
       "      <td>NaN</td>\n",
       "      <td>NaN</td>\n",
       "    </tr>\n",
       "    <tr>\n",
       "      <th>3</th>\n",
       "      <td>1950.0</td>\n",
       "      <td>Ed Bartels</td>\n",
       "      <td>F</td>\n",
       "      <td>24.0</td>\n",
       "      <td>TOT</td>\n",
       "      <td>15.0</td>\n",
       "      <td>NaN</td>\n",
       "      <td>NaN</td>\n",
       "      <td>22.0</td>\n",
       "      <td>86.0</td>\n",
       "      <td>...</td>\n",
       "      <td>NaN</td>\n",
       "      <td>NaN</td>\n",
       "      <td>-0.5</td>\n",
       "      <td>-0.1</td>\n",
       "      <td>-0.6</td>\n",
       "      <td>NaN</td>\n",
       "      <td>NaN</td>\n",
       "      <td>NaN</td>\n",
       "      <td>NaN</td>\n",
       "      <td>NaN</td>\n",
       "    </tr>\n",
       "    <tr>\n",
       "      <th>6</th>\n",
       "      <td>1950.0</td>\n",
       "      <td>Ralph Beard</td>\n",
       "      <td>G</td>\n",
       "      <td>22.0</td>\n",
       "      <td>INO</td>\n",
       "      <td>60.0</td>\n",
       "      <td>NaN</td>\n",
       "      <td>NaN</td>\n",
       "      <td>340.0</td>\n",
       "      <td>936.0</td>\n",
       "      <td>...</td>\n",
       "      <td>NaN</td>\n",
       "      <td>NaN</td>\n",
       "      <td>3.6</td>\n",
       "      <td>1.2</td>\n",
       "      <td>4.8</td>\n",
       "      <td>NaN</td>\n",
       "      <td>NaN</td>\n",
       "      <td>NaN</td>\n",
       "      <td>NaN</td>\n",
       "      <td>NaN</td>\n",
       "    </tr>\n",
       "  </tbody>\n",
       "</table>\n",
       "<p>5 rows × 50 columns</p>\n",
       "</div>"
      ],
      "text/plain": [
       "     Year           Player  Pos   Age   Tm     G  GS  MP     FG    FGA  ...  \\\n",
       "0  1950.0  Curly Armstrong  G-F  31.0  FTW  63.0 NaN NaN  144.0  516.0  ...   \n",
       "1  1950.0     Cliff Barker   SG  29.0  INO  49.0 NaN NaN  102.0  274.0  ...   \n",
       "2  1950.0    Leo Barnhorst   SF  25.0  CHS  67.0 NaN NaN  174.0  499.0  ...   \n",
       "3  1950.0       Ed Bartels    F  24.0  TOT  15.0 NaN NaN   22.0   86.0  ...   \n",
       "6  1950.0      Ralph Beard    G  22.0  INO  60.0 NaN NaN  340.0  936.0  ...   \n",
       "\n",
       "   TOV%  USG%  OWS  DWS   WS  WS/48  OBPM  DBPM  BPM  VORP  \n",
       "0   NaN   NaN -0.1  3.6  3.5    NaN   NaN   NaN  NaN   NaN  \n",
       "1   NaN   NaN  1.6  0.6  2.2    NaN   NaN   NaN  NaN   NaN  \n",
       "2   NaN   NaN  0.9  2.8  3.6    NaN   NaN   NaN  NaN   NaN  \n",
       "3   NaN   NaN -0.5 -0.1 -0.6    NaN   NaN   NaN  NaN   NaN  \n",
       "6   NaN   NaN  3.6  1.2  4.8    NaN   NaN   NaN  NaN   NaN  \n",
       "\n",
       "[5 rows x 50 columns]"
      ]
     },
     "execution_count": 13,
     "metadata": {},
     "output_type": "execute_result"
    }
   ],
   "source": [
    "#filtering duplicate records for each player for every year\n",
    "\n",
    "df = df[~df.duplicated(subset = ['Year', 'Player'], keep = 'first')]\n",
    "df.head()"
   ]
  },
  {
   "cell_type": "markdown",
   "id": "11279a2a",
   "metadata": {
    "id": "-AQqIqWAbatX",
    "papermill": {
     "duration": 0.057957,
     "end_time": "2022-05-20T04:33:08.654578",
     "exception": false,
     "start_time": "2022-05-20T04:33:08.596621",
     "status": "completed"
    },
    "tags": []
   },
   "source": [
    "## Player Performance Metrics (season 2020-2021)"
   ]
  },
  {
   "cell_type": "markdown",
   "id": "498435d7",
   "metadata": {
    "id": "Ng4YpFlocBb5",
    "papermill": {
     "duration": 0.054581,
     "end_time": "2022-05-20T04:33:08.764418",
     "exception": false,
     "start_time": "2022-05-20T04:33:08.709837",
     "status": "completed"
    },
    "tags": []
   },
   "source": [
    "The data represents player performance in the regular NBA season, but not every player has the same number of games played. Therefore grouping players based on total/cumulative stats is not fair.\n",
    "\n",
    "This can be resolved by converting the metrics into **per-match** stats."
   ]
  },
  {
   "cell_type": "code",
   "execution_count": 14,
   "id": "c7653f3d",
   "metadata": {
    "execution": {
     "iopub.execute_input": "2022-05-20T04:33:08.878102Z",
     "iopub.status.busy": "2022-05-20T04:33:08.877559Z",
     "iopub.status.idle": "2022-05-20T04:33:08.882139Z",
     "shell.execute_reply": "2022-05-20T04:33:08.881133Z"
    },
    "id": "bs06anHXAZMI",
    "papermill": {
     "duration": 0.063382,
     "end_time": "2022-05-20T04:33:08.884219",
     "exception": false,
     "start_time": "2022-05-20T04:33:08.820837",
     "status": "completed"
    },
    "tags": []
   },
   "outputs": [],
   "source": [
    "#defining function for per game statistics\n",
    "\n",
    "def per_game(x):\n",
    "    return round(x/df_21['G'], 3)"
   ]
  },
  {
   "cell_type": "code",
   "execution_count": 15,
   "id": "a7cf1fcb",
   "metadata": {
    "execution": {
     "iopub.execute_input": "2022-05-20T04:33:08.999832Z",
     "iopub.status.busy": "2022-05-20T04:33:08.998942Z",
     "iopub.status.idle": "2022-05-20T04:33:09.033435Z",
     "shell.execute_reply": "2022-05-20T04:33:09.032587Z"
    },
    "id": "zLdcItmwxDiW",
    "outputId": "69e62308-b29b-49cc-da33-e3fa4c29bbdb",
    "papermill": {
     "duration": 0.094203,
     "end_time": "2022-05-20T04:33:09.035535",
     "exception": false,
     "start_time": "2022-05-20T04:33:08.941332",
     "status": "completed"
    },
    "tags": []
   },
   "outputs": [
    {
     "data": {
      "text/html": [
       "<div>\n",
       "<style scoped>\n",
       "    .dataframe tbody tr th:only-of-type {\n",
       "        vertical-align: middle;\n",
       "    }\n",
       "\n",
       "    .dataframe tbody tr th {\n",
       "        vertical-align: top;\n",
       "    }\n",
       "\n",
       "    .dataframe thead th {\n",
       "        text-align: right;\n",
       "    }\n",
       "</style>\n",
       "<table border=\"1\" class=\"dataframe\">\n",
       "  <thead>\n",
       "    <tr style=\"text-align: right;\">\n",
       "      <th></th>\n",
       "      <th>Year</th>\n",
       "      <th>Player</th>\n",
       "      <th>Pos</th>\n",
       "      <th>Age</th>\n",
       "      <th>Tm</th>\n",
       "      <th>G</th>\n",
       "      <th>GS</th>\n",
       "      <th>MP</th>\n",
       "      <th>FG</th>\n",
       "      <th>FGA</th>\n",
       "      <th>...</th>\n",
       "      <th>TOV%</th>\n",
       "      <th>USG%</th>\n",
       "      <th>OWS</th>\n",
       "      <th>DWS</th>\n",
       "      <th>WS</th>\n",
       "      <th>WS/48</th>\n",
       "      <th>OBPM</th>\n",
       "      <th>DBPM</th>\n",
       "      <th>BPM</th>\n",
       "      <th>VORP</th>\n",
       "    </tr>\n",
       "  </thead>\n",
       "  <tbody>\n",
       "    <tr>\n",
       "      <th>26718</th>\n",
       "      <td>2021.0</td>\n",
       "      <td>Precious Achiuwa</td>\n",
       "      <td>PF</td>\n",
       "      <td>21.0</td>\n",
       "      <td>MIA</td>\n",
       "      <td>61.0</td>\n",
       "      <td>4.0</td>\n",
       "      <td>737.0</td>\n",
       "      <td>124.0</td>\n",
       "      <td>228.0</td>\n",
       "      <td>...</td>\n",
       "      <td>13.5</td>\n",
       "      <td>19.5</td>\n",
       "      <td>0.3</td>\n",
       "      <td>1.0</td>\n",
       "      <td>1.3</td>\n",
       "      <td>0.085</td>\n",
       "      <td>-3.6</td>\n",
       "      <td>-0.5</td>\n",
       "      <td>-4.1</td>\n",
       "      <td>-0.4</td>\n",
       "    </tr>\n",
       "    <tr>\n",
       "      <th>26719</th>\n",
       "      <td>2021.0</td>\n",
       "      <td>Jaylen Adams</td>\n",
       "      <td>PG</td>\n",
       "      <td>24.0</td>\n",
       "      <td>MIL</td>\n",
       "      <td>7.0</td>\n",
       "      <td>0.0</td>\n",
       "      <td>18.0</td>\n",
       "      <td>1.0</td>\n",
       "      <td>8.0</td>\n",
       "      <td>...</td>\n",
       "      <td>0.0</td>\n",
       "      <td>18.6</td>\n",
       "      <td>-0.1</td>\n",
       "      <td>0.0</td>\n",
       "      <td>-0.1</td>\n",
       "      <td>-0.252</td>\n",
       "      <td>-15.1</td>\n",
       "      <td>-4.6</td>\n",
       "      <td>-19.8</td>\n",
       "      <td>-0.1</td>\n",
       "    </tr>\n",
       "    <tr>\n",
       "      <th>26720</th>\n",
       "      <td>2021.0</td>\n",
       "      <td>Steven Adams</td>\n",
       "      <td>C</td>\n",
       "      <td>27.0</td>\n",
       "      <td>NOP</td>\n",
       "      <td>58.0</td>\n",
       "      <td>58.0</td>\n",
       "      <td>1605.0</td>\n",
       "      <td>189.0</td>\n",
       "      <td>308.0</td>\n",
       "      <td>...</td>\n",
       "      <td>17.5</td>\n",
       "      <td>11.7</td>\n",
       "      <td>2.3</td>\n",
       "      <td>1.7</td>\n",
       "      <td>4.0</td>\n",
       "      <td>0.119</td>\n",
       "      <td>-0.4</td>\n",
       "      <td>0.1</td>\n",
       "      <td>-0.3</td>\n",
       "      <td>0.7</td>\n",
       "    </tr>\n",
       "    <tr>\n",
       "      <th>26721</th>\n",
       "      <td>2021.0</td>\n",
       "      <td>Bam Adebayo</td>\n",
       "      <td>C</td>\n",
       "      <td>23.0</td>\n",
       "      <td>MIA</td>\n",
       "      <td>64.0</td>\n",
       "      <td>64.0</td>\n",
       "      <td>2143.0</td>\n",
       "      <td>456.0</td>\n",
       "      <td>800.0</td>\n",
       "      <td>...</td>\n",
       "      <td>15.0</td>\n",
       "      <td>23.7</td>\n",
       "      <td>5.6</td>\n",
       "      <td>3.2</td>\n",
       "      <td>8.8</td>\n",
       "      <td>0.197</td>\n",
       "      <td>2.9</td>\n",
       "      <td>2.0</td>\n",
       "      <td>4.9</td>\n",
       "      <td>3.7</td>\n",
       "    </tr>\n",
       "    <tr>\n",
       "      <th>26722</th>\n",
       "      <td>2021.0</td>\n",
       "      <td>LaMarcus Aldridge</td>\n",
       "      <td>C</td>\n",
       "      <td>35.0</td>\n",
       "      <td>TOT</td>\n",
       "      <td>26.0</td>\n",
       "      <td>23.0</td>\n",
       "      <td>674.0</td>\n",
       "      <td>140.0</td>\n",
       "      <td>296.0</td>\n",
       "      <td>...</td>\n",
       "      <td>7.9</td>\n",
       "      <td>22.2</td>\n",
       "      <td>0.5</td>\n",
       "      <td>0.6</td>\n",
       "      <td>1.1</td>\n",
       "      <td>0.080</td>\n",
       "      <td>-0.2</td>\n",
       "      <td>-0.2</td>\n",
       "      <td>-0.3</td>\n",
       "      <td>0.3</td>\n",
       "    </tr>\n",
       "  </tbody>\n",
       "</table>\n",
       "<p>5 rows × 50 columns</p>\n",
       "</div>"
      ],
      "text/plain": [
       "         Year             Player Pos   Age   Tm     G    GS      MP     FG  \\\n",
       "26718  2021.0   Precious Achiuwa  PF  21.0  MIA  61.0   4.0   737.0  124.0   \n",
       "26719  2021.0       Jaylen Adams  PG  24.0  MIL   7.0   0.0    18.0    1.0   \n",
       "26720  2021.0       Steven Adams   C  27.0  NOP  58.0  58.0  1605.0  189.0   \n",
       "26721  2021.0        Bam Adebayo   C  23.0  MIA  64.0  64.0  2143.0  456.0   \n",
       "26722  2021.0  LaMarcus Aldridge   C  35.0  TOT  26.0  23.0   674.0  140.0   \n",
       "\n",
       "         FGA  ...  TOV%  USG%  OWS  DWS   WS  WS/48  OBPM  DBPM   BPM  VORP  \n",
       "26718  228.0  ...  13.5  19.5  0.3  1.0  1.3  0.085  -3.6  -0.5  -4.1  -0.4  \n",
       "26719    8.0  ...   0.0  18.6 -0.1  0.0 -0.1 -0.252 -15.1  -4.6 -19.8  -0.1  \n",
       "26720  308.0  ...  17.5  11.7  2.3  1.7  4.0  0.119  -0.4   0.1  -0.3   0.7  \n",
       "26721  800.0  ...  15.0  23.7  5.6  3.2  8.8  0.197   2.9   2.0   4.9   3.7  \n",
       "26722  296.0  ...   7.9  22.2  0.5  0.6  1.1  0.080  -0.2  -0.2  -0.3   0.3  \n",
       "\n",
       "[5 rows x 50 columns]"
      ]
     },
     "execution_count": 15,
     "metadata": {},
     "output_type": "execute_result"
    }
   ],
   "source": [
    "# dataset for 2020-21 NBA regular season\n",
    "\n",
    "df_21 = df[df['Year'] == float(2021)]\n",
    "df_21.head()"
   ]
  },
  {
   "cell_type": "markdown",
   "id": "6cf374da",
   "metadata": {
    "id": "7wxN4xHLIpQe",
    "papermill": {
     "duration": 0.057452,
     "end_time": "2022-05-20T04:33:09.151369",
     "exception": false,
     "start_time": "2022-05-20T04:33:09.093917",
     "status": "completed"
    },
    "tags": []
   },
   "source": [
    "**Variables that are indicative of performance:**\n",
    "\n",
    "1. 'PTS' : Points Scored\n",
    "2. 'FG' : Field Goals Made\n",
    "3. 'FGA' : Field Goals Attempted\n",
    "4. 'FG%' : Field Goals %\n",
    "5. '3P' : 3-Point Field Goals Made\n",
    "6. '3PA' : 3-Point Field Goals Attempted\n",
    "7. '3P%' : 3-Point Field Goals %\n",
    "8. '2P' : 2-Point Field Goals Made\n",
    "9. '2PA' : 2-Point Field Goals Attempted\n",
    "10. '2P%' : 2-Point Field Goals %\n",
    "11. 'FT' : Free Throws Made\n",
    "12. 'FTA' : Free Throws Attempted\n",
    "13. 'FT%' : Free Throws %\n",
    "14. 'ORB' : Offensive Rebounds\n",
    "15. 'DRB' : Defensive Rebounds\n",
    "16. 'AST' : Assists\n",
    "17. 'STL' : Steals\n",
    "18. 'BLK' : Blocks\n"
   ]
  },
  {
   "cell_type": "code",
   "execution_count": 16,
   "id": "7a295c55",
   "metadata": {
    "execution": {
     "iopub.execute_input": "2022-05-20T04:33:09.264214Z",
     "iopub.status.busy": "2022-05-20T04:33:09.263916Z",
     "iopub.status.idle": "2022-05-20T04:33:09.269429Z",
     "shell.execute_reply": "2022-05-20T04:33:09.268538Z"
    },
    "id": "gxGGCTbHBpFR",
    "papermill": {
     "duration": 0.064398,
     "end_time": "2022-05-20T04:33:09.271575",
     "exception": false,
     "start_time": "2022-05-20T04:33:09.207177",
     "status": "completed"
    },
    "tags": []
   },
   "outputs": [],
   "source": [
    "features = ['Pos','G', 'PTS', 'FG', 'FGA', 'FG%', '3P', '3PA', '3P%', '2P', '2PA', '2P%', 'FT', 'FTA', 'FT%', 'ORB', 'DRB', 'AST', 'STL', 'BLK']\n",
    "perf_features = ['PTS', 'FG', 'FGA', 'FG%', '3P', '3PA', '3P%', '2P', '2PA', '2P%', 'FT', 'FTA', 'FT%', 'ORB', 'DRB', 'AST', 'STL', 'BLK']"
   ]
  },
  {
   "cell_type": "code",
   "execution_count": 17,
   "id": "04d4b55b",
   "metadata": {
    "execution": {
     "iopub.execute_input": "2022-05-20T04:33:09.384596Z",
     "iopub.status.busy": "2022-05-20T04:33:09.384329Z",
     "iopub.status.idle": "2022-05-20T04:33:09.389170Z",
     "shell.execute_reply": "2022-05-20T04:33:09.388237Z"
    },
    "id": "cGGSlEhnqhN7",
    "papermill": {
     "duration": 0.063343,
     "end_time": "2022-05-20T04:33:09.391218",
     "exception": false,
     "start_time": "2022-05-20T04:33:09.327875",
     "status": "completed"
    },
    "tags": []
   },
   "outputs": [],
   "source": [
    "df_21 = df_21[features]"
   ]
  },
  {
   "cell_type": "markdown",
   "id": "672c56a2",
   "metadata": {
    "id": "4SqNYcNj8SYO",
    "papermill": {
     "duration": 0.054642,
     "end_time": "2022-05-20T04:33:09.501179",
     "exception": false,
     "start_time": "2022-05-20T04:33:09.446537",
     "status": "completed"
    },
    "tags": []
   },
   "source": [
    "#### Deriving per-match stats"
   ]
  },
  {
   "cell_type": "code",
   "execution_count": 18,
   "id": "e0d23cd6",
   "metadata": {
    "execution": {
     "iopub.execute_input": "2022-05-20T04:33:09.613091Z",
     "iopub.status.busy": "2022-05-20T04:33:09.612515Z",
     "iopub.status.idle": "2022-05-20T04:33:09.653182Z",
     "shell.execute_reply": "2022-05-20T04:33:09.652356Z"
    },
    "id": "MfearRyY48f3",
    "outputId": "1a639c8d-bb80-440b-9486-a40b1cc2a8f0",
    "papermill": {
     "duration": 0.099144,
     "end_time": "2022-05-20T04:33:09.655194",
     "exception": false,
     "start_time": "2022-05-20T04:33:09.556050",
     "status": "completed"
    },
    "tags": []
   },
   "outputs": [
    {
     "data": {
      "text/html": [
       "<div>\n",
       "<style scoped>\n",
       "    .dataframe tbody tr th:only-of-type {\n",
       "        vertical-align: middle;\n",
       "    }\n",
       "\n",
       "    .dataframe tbody tr th {\n",
       "        vertical-align: top;\n",
       "    }\n",
       "\n",
       "    .dataframe thead th {\n",
       "        text-align: right;\n",
       "    }\n",
       "</style>\n",
       "<table border=\"1\" class=\"dataframe\">\n",
       "  <thead>\n",
       "    <tr style=\"text-align: right;\">\n",
       "      <th></th>\n",
       "      <th>index</th>\n",
       "      <th>PTS</th>\n",
       "      <th>FG</th>\n",
       "      <th>FGA</th>\n",
       "      <th>3P</th>\n",
       "      <th>3PA</th>\n",
       "      <th>2P</th>\n",
       "      <th>2PA</th>\n",
       "      <th>FT</th>\n",
       "      <th>FTA</th>\n",
       "      <th>...</th>\n",
       "      <th>DRB</th>\n",
       "      <th>AST</th>\n",
       "      <th>STL</th>\n",
       "      <th>BLK</th>\n",
       "      <th>Pos</th>\n",
       "      <th>G</th>\n",
       "      <th>FG%</th>\n",
       "      <th>3P%</th>\n",
       "      <th>2P%</th>\n",
       "      <th>FT%</th>\n",
       "    </tr>\n",
       "  </thead>\n",
       "  <tbody>\n",
       "    <tr>\n",
       "      <th>0</th>\n",
       "      <td>26718</td>\n",
       "      <td>4.984</td>\n",
       "      <td>2.033</td>\n",
       "      <td>3.738</td>\n",
       "      <td>0.000</td>\n",
       "      <td>0.016</td>\n",
       "      <td>2.033</td>\n",
       "      <td>3.721</td>\n",
       "      <td>0.918</td>\n",
       "      <td>1.803</td>\n",
       "      <td>...</td>\n",
       "      <td>2.213</td>\n",
       "      <td>0.475</td>\n",
       "      <td>0.328</td>\n",
       "      <td>0.459</td>\n",
       "      <td>PF</td>\n",
       "      <td>61.0</td>\n",
       "      <td>0.544</td>\n",
       "      <td>0.000</td>\n",
       "      <td>0.546</td>\n",
       "      <td>0.509</td>\n",
       "    </tr>\n",
       "    <tr>\n",
       "      <th>1</th>\n",
       "      <td>26719</td>\n",
       "      <td>0.286</td>\n",
       "      <td>0.143</td>\n",
       "      <td>1.143</td>\n",
       "      <td>0.000</td>\n",
       "      <td>0.286</td>\n",
       "      <td>0.143</td>\n",
       "      <td>0.857</td>\n",
       "      <td>0.000</td>\n",
       "      <td>0.000</td>\n",
       "      <td>...</td>\n",
       "      <td>0.429</td>\n",
       "      <td>0.286</td>\n",
       "      <td>0.000</td>\n",
       "      <td>0.000</td>\n",
       "      <td>PG</td>\n",
       "      <td>7.0</td>\n",
       "      <td>0.125</td>\n",
       "      <td>0.000</td>\n",
       "      <td>0.167</td>\n",
       "      <td>NaN</td>\n",
       "    </tr>\n",
       "    <tr>\n",
       "      <th>2</th>\n",
       "      <td>26720</td>\n",
       "      <td>7.552</td>\n",
       "      <td>3.259</td>\n",
       "      <td>5.310</td>\n",
       "      <td>0.000</td>\n",
       "      <td>0.052</td>\n",
       "      <td>3.259</td>\n",
       "      <td>5.259</td>\n",
       "      <td>1.034</td>\n",
       "      <td>2.328</td>\n",
       "      <td>...</td>\n",
       "      <td>5.190</td>\n",
       "      <td>1.914</td>\n",
       "      <td>0.931</td>\n",
       "      <td>0.655</td>\n",
       "      <td>C</td>\n",
       "      <td>58.0</td>\n",
       "      <td>0.614</td>\n",
       "      <td>0.000</td>\n",
       "      <td>0.620</td>\n",
       "      <td>0.444</td>\n",
       "    </tr>\n",
       "    <tr>\n",
       "      <th>3</th>\n",
       "      <td>26721</td>\n",
       "      <td>18.703</td>\n",
       "      <td>7.125</td>\n",
       "      <td>12.500</td>\n",
       "      <td>0.031</td>\n",
       "      <td>0.125</td>\n",
       "      <td>7.094</td>\n",
       "      <td>12.375</td>\n",
       "      <td>4.422</td>\n",
       "      <td>5.531</td>\n",
       "      <td>...</td>\n",
       "      <td>6.734</td>\n",
       "      <td>5.406</td>\n",
       "      <td>1.172</td>\n",
       "      <td>1.031</td>\n",
       "      <td>C</td>\n",
       "      <td>64.0</td>\n",
       "      <td>0.570</td>\n",
       "      <td>0.250</td>\n",
       "      <td>0.573</td>\n",
       "      <td>0.799</td>\n",
       "    </tr>\n",
       "    <tr>\n",
       "      <th>4</th>\n",
       "      <td>26722</td>\n",
       "      <td>13.538</td>\n",
       "      <td>5.385</td>\n",
       "      <td>11.385</td>\n",
       "      <td>1.192</td>\n",
       "      <td>3.077</td>\n",
       "      <td>4.192</td>\n",
       "      <td>8.308</td>\n",
       "      <td>1.577</td>\n",
       "      <td>1.808</td>\n",
       "      <td>...</td>\n",
       "      <td>3.808</td>\n",
       "      <td>1.885</td>\n",
       "      <td>0.423</td>\n",
       "      <td>1.115</td>\n",
       "      <td>C</td>\n",
       "      <td>26.0</td>\n",
       "      <td>0.473</td>\n",
       "      <td>0.388</td>\n",
       "      <td>0.505</td>\n",
       "      <td>0.872</td>\n",
       "    </tr>\n",
       "  </tbody>\n",
       "</table>\n",
       "<p>5 rows × 21 columns</p>\n",
       "</div>"
      ],
      "text/plain": [
       "   index     PTS     FG     FGA     3P    3PA     2P     2PA     FT    FTA  \\\n",
       "0  26718   4.984  2.033   3.738  0.000  0.016  2.033   3.721  0.918  1.803   \n",
       "1  26719   0.286  0.143   1.143  0.000  0.286  0.143   0.857  0.000  0.000   \n",
       "2  26720   7.552  3.259   5.310  0.000  0.052  3.259   5.259  1.034  2.328   \n",
       "3  26721  18.703  7.125  12.500  0.031  0.125  7.094  12.375  4.422  5.531   \n",
       "4  26722  13.538  5.385  11.385  1.192  3.077  4.192   8.308  1.577  1.808   \n",
       "\n",
       "   ...    DRB    AST    STL    BLK  Pos     G    FG%    3P%    2P%    FT%  \n",
       "0  ...  2.213  0.475  0.328  0.459   PF  61.0  0.544  0.000  0.546  0.509  \n",
       "1  ...  0.429  0.286  0.000  0.000   PG   7.0  0.125  0.000  0.167    NaN  \n",
       "2  ...  5.190  1.914  0.931  0.655    C  58.0  0.614  0.000  0.620  0.444  \n",
       "3  ...  6.734  5.406  1.172  1.031    C  64.0  0.570  0.250  0.573  0.799  \n",
       "4  ...  3.808  1.885  0.423  1.115    C  26.0  0.473  0.388  0.505  0.872  \n",
       "\n",
       "[5 rows x 21 columns]"
      ]
     },
     "execution_count": 18,
     "metadata": {},
     "output_type": "execute_result"
    }
   ],
   "source": [
    "#per-match stats\n",
    "\n",
    "df_pmatch = df_21[['PTS', 'FG', 'FGA', '3P', '3PA', '2P', '2PA', 'FT', 'FTA', 'ORB', 'DRB', 'AST', 'STL', 'BLK']].apply(per_game)\n",
    "\n",
    "#adding other columns\n",
    "df_pmatch[['Pos','G','FG%', '3P%', '2P%', 'FT%']] = df_21[['Pos','G','FG%', '3P%', '2P%', 'FT%']]\n",
    "df_pmatch = df_pmatch.reset_index()\n",
    "\n",
    "df_pmatch.head()"
   ]
  },
  {
   "cell_type": "code",
   "execution_count": 19,
   "id": "7fb3b5e7",
   "metadata": {
    "execution": {
     "iopub.execute_input": "2022-05-20T04:33:09.769367Z",
     "iopub.status.busy": "2022-05-20T04:33:09.768706Z",
     "iopub.status.idle": "2022-05-20T04:33:09.774031Z",
     "shell.execute_reply": "2022-05-20T04:33:09.773369Z"
    },
    "id": "PIKVu5Thuk_p",
    "outputId": "3e59560e-6cae-4d54-a4f4-f9d825d5093f",
    "papermill": {
     "duration": 0.064757,
     "end_time": "2022-05-20T04:33:09.775764",
     "exception": false,
     "start_time": "2022-05-20T04:33:09.711007",
     "status": "completed"
    },
    "tags": []
   },
   "outputs": [
    {
     "data": {
      "text/plain": [
       "(540, 21)"
      ]
     },
     "execution_count": 19,
     "metadata": {},
     "output_type": "execute_result"
    }
   ],
   "source": [
    "df_pmatch.shape"
   ]
  },
  {
   "cell_type": "markdown",
   "id": "60d22302",
   "metadata": {
    "id": "dgQMzBKi3tzk",
    "papermill": {
     "duration": 0.057106,
     "end_time": "2022-05-20T04:33:09.889232",
     "exception": false,
     "start_time": "2022-05-20T04:33:09.832126",
     "status": "completed"
    },
    "tags": []
   },
   "source": [
    "## Basketball Player Positions"
   ]
  },
  {
   "cell_type": "markdown",
   "id": "fe03d32a",
   "metadata": {
    "id": "VIju_FAX4KeA",
    "papermill": {
     "duration": 0.056488,
     "end_time": "2022-05-20T04:33:10.002684",
     "exception": false,
     "start_time": "2022-05-20T04:33:09.946196",
     "status": "completed"
    },
    "tags": []
   },
   "source": [
    "In Basketball, every player has a role on court. Each team has 5 players on the court at any given time. And each player often has a unique skillset to help their team win. Five distinct positions on court are\n",
    "\n",
    "* **Point Guard:** Initiates offensive plays with great passing and dribbling skills.\n",
    "* **Shooting Guard:** Positions on the wing with strong 3-point shooting ability.\n",
    "* **Small Forward:** Versatile shooter who can drive to the basket.\n",
    "* **Power Forward:** Strong inside presence; scores close and mid-range shots.\n",
    "* **Center:** Scores near the basket with strong rebounding and blocking"
   ]
  },
  {
   "cell_type": "code",
   "execution_count": 20,
   "id": "963bef5e",
   "metadata": {
    "execution": {
     "iopub.execute_input": "2022-05-20T04:33:10.118873Z",
     "iopub.status.busy": "2022-05-20T04:33:10.118408Z",
     "iopub.status.idle": "2022-05-20T04:33:10.123540Z",
     "shell.execute_reply": "2022-05-20T04:33:10.122901Z"
    },
    "id": "nlQaOmg9yhY5",
    "papermill": {
     "duration": 0.06515,
     "end_time": "2022-05-20T04:33:10.125531",
     "exception": false,
     "start_time": "2022-05-20T04:33:10.060381",
     "status": "completed"
    },
    "tags": []
   },
   "outputs": [],
   "source": [
    "#creating a copy\n",
    "\n",
    "df_m = df_pmatch[df_pmatch['Pos'].isin(['PF', 'PG', 'C', 'SG', 'SF'])].copy()"
   ]
  },
  {
   "cell_type": "code",
   "execution_count": 21,
   "id": "77488d17",
   "metadata": {
    "execution": {
     "iopub.execute_input": "2022-05-20T04:33:10.241253Z",
     "iopub.status.busy": "2022-05-20T04:33:10.240591Z",
     "iopub.status.idle": "2022-05-20T04:33:10.247244Z",
     "shell.execute_reply": "2022-05-20T04:33:10.246623Z"
    },
    "id": "pkcvYxWX03_v",
    "outputId": "39ab01b3-e31a-44ee-e01a-54602cd2061f",
    "papermill": {
     "duration": 0.066343,
     "end_time": "2022-05-20T04:33:10.249083",
     "exception": false,
     "start_time": "2022-05-20T04:33:10.182740",
     "status": "completed"
    },
    "tags": []
   },
   "outputs": [
    {
     "data": {
      "text/plain": [
       "SG    123\n",
       "PF    111\n",
       "PG    102\n",
       "C      98\n",
       "SF     90\n",
       "Name: Pos, dtype: int64"
      ]
     },
     "execution_count": 21,
     "metadata": {},
     "output_type": "execute_result"
    }
   ],
   "source": [
    "#counts of players in different roles\n",
    "df_m.Pos.value_counts()"
   ]
  },
  {
   "cell_type": "markdown",
   "id": "8e68dcb9",
   "metadata": {
    "id": "G4V5pTQBsZs-",
    "papermill": {
     "duration": 0.056715,
     "end_time": "2022-05-20T04:33:10.363194",
     "exception": false,
     "start_time": "2022-05-20T04:33:10.306479",
     "status": "completed"
    },
    "tags": []
   },
   "source": [
    "### Average statistics for players in each of the five classic positions."
   ]
  },
  {
   "cell_type": "code",
   "execution_count": 22,
   "id": "2d9e5664",
   "metadata": {
    "execution": {
     "iopub.execute_input": "2022-05-20T04:33:10.479213Z",
     "iopub.status.busy": "2022-05-20T04:33:10.478544Z",
     "iopub.status.idle": "2022-05-20T04:33:10.514720Z",
     "shell.execute_reply": "2022-05-20T04:33:10.513767Z"
    },
    "id": "40Al5vebFVz4",
    "outputId": "fc73d761-ca72-43ec-fb3f-75e25ccceeae",
    "papermill": {
     "duration": 0.096949,
     "end_time": "2022-05-20T04:33:10.517097",
     "exception": false,
     "start_time": "2022-05-20T04:33:10.420148",
     "status": "completed"
    },
    "tags": []
   },
   "outputs": [
    {
     "data": {
      "text/html": [
       "<div>\n",
       "<style scoped>\n",
       "    .dataframe tbody tr th:only-of-type {\n",
       "        vertical-align: middle;\n",
       "    }\n",
       "\n",
       "    .dataframe tbody tr th {\n",
       "        vertical-align: top;\n",
       "    }\n",
       "\n",
       "    .dataframe thead th {\n",
       "        text-align: right;\n",
       "    }\n",
       "</style>\n",
       "<table border=\"1\" class=\"dataframe\">\n",
       "  <thead>\n",
       "    <tr style=\"text-align: right;\">\n",
       "      <th></th>\n",
       "      <th>PTS</th>\n",
       "      <th>FG</th>\n",
       "      <th>FGA</th>\n",
       "      <th>FG%</th>\n",
       "      <th>3P</th>\n",
       "      <th>3PA</th>\n",
       "      <th>3P%</th>\n",
       "      <th>2P</th>\n",
       "      <th>2PA</th>\n",
       "      <th>2P%</th>\n",
       "      <th>FT</th>\n",
       "      <th>FTA</th>\n",
       "      <th>FT%</th>\n",
       "      <th>ORB</th>\n",
       "      <th>DRB</th>\n",
       "      <th>AST</th>\n",
       "      <th>STL</th>\n",
       "      <th>BLK</th>\n",
       "    </tr>\n",
       "    <tr>\n",
       "      <th>Pos</th>\n",
       "      <th></th>\n",
       "      <th></th>\n",
       "      <th></th>\n",
       "      <th></th>\n",
       "      <th></th>\n",
       "      <th></th>\n",
       "      <th></th>\n",
       "      <th></th>\n",
       "      <th></th>\n",
       "      <th></th>\n",
       "      <th></th>\n",
       "      <th></th>\n",
       "      <th></th>\n",
       "      <th></th>\n",
       "      <th></th>\n",
       "      <th></th>\n",
       "      <th></th>\n",
       "      <th></th>\n",
       "    </tr>\n",
       "  </thead>\n",
       "  <tbody>\n",
       "    <tr>\n",
       "      <th>C</th>\n",
       "      <td>8.50</td>\n",
       "      <td>3.33</td>\n",
       "      <td>6.21</td>\n",
       "      <td>0.53</td>\n",
       "      <td>0.42</td>\n",
       "      <td>1.25</td>\n",
       "      <td>0.23</td>\n",
       "      <td>2.91</td>\n",
       "      <td>4.96</td>\n",
       "      <td>0.58</td>\n",
       "      <td>1.42</td>\n",
       "      <td>1.99</td>\n",
       "      <td>0.69</td>\n",
       "      <td>1.69</td>\n",
       "      <td>3.93</td>\n",
       "      <td>1.26</td>\n",
       "      <td>0.49</td>\n",
       "      <td>0.86</td>\n",
       "    </tr>\n",
       "    <tr>\n",
       "      <th>PF</th>\n",
       "      <td>8.01</td>\n",
       "      <td>2.96</td>\n",
       "      <td>6.34</td>\n",
       "      <td>0.45</td>\n",
       "      <td>0.83</td>\n",
       "      <td>2.38</td>\n",
       "      <td>0.31</td>\n",
       "      <td>2.13</td>\n",
       "      <td>3.97</td>\n",
       "      <td>0.51</td>\n",
       "      <td>1.25</td>\n",
       "      <td>1.67</td>\n",
       "      <td>0.73</td>\n",
       "      <td>0.89</td>\n",
       "      <td>3.08</td>\n",
       "      <td>1.53</td>\n",
       "      <td>0.54</td>\n",
       "      <td>0.42</td>\n",
       "    </tr>\n",
       "    <tr>\n",
       "      <th>PG</th>\n",
       "      <td>9.92</td>\n",
       "      <td>3.58</td>\n",
       "      <td>8.25</td>\n",
       "      <td>0.41</td>\n",
       "      <td>1.20</td>\n",
       "      <td>3.32</td>\n",
       "      <td>0.34</td>\n",
       "      <td>2.39</td>\n",
       "      <td>4.93</td>\n",
       "      <td>0.46</td>\n",
       "      <td>1.55</td>\n",
       "      <td>1.93</td>\n",
       "      <td>0.79</td>\n",
       "      <td>0.44</td>\n",
       "      <td>2.25</td>\n",
       "      <td>3.49</td>\n",
       "      <td>0.75</td>\n",
       "      <td>0.21</td>\n",
       "    </tr>\n",
       "    <tr>\n",
       "      <th>SF</th>\n",
       "      <td>8.56</td>\n",
       "      <td>3.10</td>\n",
       "      <td>6.90</td>\n",
       "      <td>0.44</td>\n",
       "      <td>1.11</td>\n",
       "      <td>3.08</td>\n",
       "      <td>0.33</td>\n",
       "      <td>2.00</td>\n",
       "      <td>3.82</td>\n",
       "      <td>0.53</td>\n",
       "      <td>1.25</td>\n",
       "      <td>1.59</td>\n",
       "      <td>0.76</td>\n",
       "      <td>0.68</td>\n",
       "      <td>2.73</td>\n",
       "      <td>1.58</td>\n",
       "      <td>0.64</td>\n",
       "      <td>0.33</td>\n",
       "    </tr>\n",
       "    <tr>\n",
       "      <th>SG</th>\n",
       "      <td>9.55</td>\n",
       "      <td>3.44</td>\n",
       "      <td>7.95</td>\n",
       "      <td>0.41</td>\n",
       "      <td>1.37</td>\n",
       "      <td>3.81</td>\n",
       "      <td>0.33</td>\n",
       "      <td>2.07</td>\n",
       "      <td>4.14</td>\n",
       "      <td>0.50</td>\n",
       "      <td>1.30</td>\n",
       "      <td>1.61</td>\n",
       "      <td>0.79</td>\n",
       "      <td>0.47</td>\n",
       "      <td>2.21</td>\n",
       "      <td>1.99</td>\n",
       "      <td>0.64</td>\n",
       "      <td>0.26</td>\n",
       "    </tr>\n",
       "  </tbody>\n",
       "</table>\n",
       "</div>"
      ],
      "text/plain": [
       "      PTS    FG   FGA   FG%    3P   3PA   3P%    2P   2PA   2P%    FT   FTA  \\\n",
       "Pos                                                                           \n",
       "C    8.50  3.33  6.21  0.53  0.42  1.25  0.23  2.91  4.96  0.58  1.42  1.99   \n",
       "PF   8.01  2.96  6.34  0.45  0.83  2.38  0.31  2.13  3.97  0.51  1.25  1.67   \n",
       "PG   9.92  3.58  8.25  0.41  1.20  3.32  0.34  2.39  4.93  0.46  1.55  1.93   \n",
       "SF   8.56  3.10  6.90  0.44  1.11  3.08  0.33  2.00  3.82  0.53  1.25  1.59   \n",
       "SG   9.55  3.44  7.95  0.41  1.37  3.81  0.33  2.07  4.14  0.50  1.30  1.61   \n",
       "\n",
       "      FT%   ORB   DRB   AST   STL   BLK  \n",
       "Pos                                      \n",
       "C    0.69  1.69  3.93  1.26  0.49  0.86  \n",
       "PF   0.73  0.89  3.08  1.53  0.54  0.42  \n",
       "PG   0.79  0.44  2.25  3.49  0.75  0.21  \n",
       "SF   0.76  0.68  2.73  1.58  0.64  0.33  \n",
       "SG   0.79  0.47  2.21  1.99  0.64  0.26  "
      ]
     },
     "execution_count": 22,
     "metadata": {},
     "output_type": "execute_result"
    }
   ],
   "source": [
    "df_avg = df_m.groupby('Pos')[perf_features].mean().round(2)\n",
    "df_avg"
   ]
  },
  {
   "cell_type": "code",
   "execution_count": 23,
   "id": "12a490a7",
   "metadata": {
    "execution": {
     "iopub.execute_input": "2022-05-20T04:33:10.634533Z",
     "iopub.status.busy": "2022-05-20T04:33:10.634232Z",
     "iopub.status.idle": "2022-05-20T04:33:11.786745Z",
     "shell.execute_reply": "2022-05-20T04:33:11.785987Z"
    },
    "id": "1w3SpUBktoVD",
    "outputId": "7ab9ce53-0672-428a-95c5-e94f446a06fb",
    "papermill": {
     "duration": 1.214614,
     "end_time": "2022-05-20T04:33:11.789222",
     "exception": false,
     "start_time": "2022-05-20T04:33:10.574608",
     "status": "completed"
    },
    "tags": []
   },
   "outputs": [
    {
     "data": {
      "text/html": [
       "        <script type=\"text/javascript\">\n",
       "        window.PlotlyConfig = {MathJaxConfig: 'local'};\n",
       "        if (window.MathJax) {MathJax.Hub.Config({SVG: {font: \"STIX-Web\"}});}\n",
       "        if (typeof require !== 'undefined') {\n",
       "        require.undef(\"plotly\");\n",
       "        requirejs.config({\n",
       "            paths: {\n",
       "                'plotly': ['https://cdn.plot.ly/plotly-2.11.1.min']\n",
       "            }\n",
       "        });\n",
       "        require(['plotly'], function(Plotly) {\n",
       "            window._Plotly = Plotly;\n",
       "        });\n",
       "        }\n",
       "        </script>\n",
       "        "
      ]
     },
     "metadata": {},
     "output_type": "display_data"
    },
    {
     "data": {
      "text/html": [
       "<div>                            <div id=\"87c0cc23-03a5-4bd1-9064-7a1b720f3040\" class=\"plotly-graph-div\" style=\"height:525px; width:1200px;\"></div>            <script type=\"text/javascript\">                require([\"plotly\"], function(Plotly) {                    window.PLOTLYENV=window.PLOTLYENV || {};                                    if (document.getElementById(\"87c0cc23-03a5-4bd1-9064-7a1b720f3040\")) {                    Plotly.newPlot(                        \"87c0cc23-03a5-4bd1-9064-7a1b720f3040\",                        [{\"alignmentgroup\":\"True\",\"hovertemplate\":\"FG type=2P<br>Position=%{x}<br>Average=%{y}<extra></extra>\",\"legendgroup\":\"2P\",\"marker\":{\"color\":\"#636efa\",\"pattern\":{\"shape\":\"\"}},\"name\":\"2P\",\"offsetgroup\":\"2P\",\"orientation\":\"v\",\"showlegend\":true,\"textposition\":\"auto\",\"x\":[\"C\",\"PF\",\"PG\",\"SF\",\"SG\"],\"xaxis\":\"x\",\"y\":[2.91,2.13,2.39,2.0,2.07],\"yaxis\":\"y\",\"type\":\"bar\"},{\"alignmentgroup\":\"True\",\"hovertemplate\":\"FG type=3P<br>Position=%{x}<br>Average=%{y}<extra></extra>\",\"legendgroup\":\"3P\",\"marker\":{\"color\":\"#EF553B\",\"pattern\":{\"shape\":\"\"}},\"name\":\"3P\",\"offsetgroup\":\"3P\",\"orientation\":\"v\",\"showlegend\":true,\"textposition\":\"auto\",\"x\":[\"C\",\"PF\",\"PG\",\"SF\",\"SG\"],\"xaxis\":\"x\",\"y\":[0.42,0.83,1.2,1.11,1.37],\"yaxis\":\"y\",\"type\":\"bar\"}],                        {\"template\":{\"data\":{\"histogram2dcontour\":[{\"type\":\"histogram2dcontour\",\"colorbar\":{\"outlinewidth\":0,\"ticks\":\"\"},\"colorscale\":[[0.0,\"#0d0887\"],[0.1111111111111111,\"#46039f\"],[0.2222222222222222,\"#7201a8\"],[0.3333333333333333,\"#9c179e\"],[0.4444444444444444,\"#bd3786\"],[0.5555555555555556,\"#d8576b\"],[0.6666666666666666,\"#ed7953\"],[0.7777777777777778,\"#fb9f3a\"],[0.8888888888888888,\"#fdca26\"],[1.0,\"#f0f921\"]]}],\"choropleth\":[{\"type\":\"choropleth\",\"colorbar\":{\"outlinewidth\":0,\"ticks\":\"\"}}],\"histogram2d\":[{\"type\":\"histogram2d\",\"colorbar\":{\"outlinewidth\":0,\"ticks\":\"\"},\"colorscale\":[[0.0,\"#0d0887\"],[0.1111111111111111,\"#46039f\"],[0.2222222222222222,\"#7201a8\"],[0.3333333333333333,\"#9c179e\"],[0.4444444444444444,\"#bd3786\"],[0.5555555555555556,\"#d8576b\"],[0.6666666666666666,\"#ed7953\"],[0.7777777777777778,\"#fb9f3a\"],[0.8888888888888888,\"#fdca26\"],[1.0,\"#f0f921\"]]}],\"heatmap\":[{\"type\":\"heatmap\",\"colorbar\":{\"outlinewidth\":0,\"ticks\":\"\"},\"colorscale\":[[0.0,\"#0d0887\"],[0.1111111111111111,\"#46039f\"],[0.2222222222222222,\"#7201a8\"],[0.3333333333333333,\"#9c179e\"],[0.4444444444444444,\"#bd3786\"],[0.5555555555555556,\"#d8576b\"],[0.6666666666666666,\"#ed7953\"],[0.7777777777777778,\"#fb9f3a\"],[0.8888888888888888,\"#fdca26\"],[1.0,\"#f0f921\"]]}],\"heatmapgl\":[{\"type\":\"heatmapgl\",\"colorbar\":{\"outlinewidth\":0,\"ticks\":\"\"},\"colorscale\":[[0.0,\"#0d0887\"],[0.1111111111111111,\"#46039f\"],[0.2222222222222222,\"#7201a8\"],[0.3333333333333333,\"#9c179e\"],[0.4444444444444444,\"#bd3786\"],[0.5555555555555556,\"#d8576b\"],[0.6666666666666666,\"#ed7953\"],[0.7777777777777778,\"#fb9f3a\"],[0.8888888888888888,\"#fdca26\"],[1.0,\"#f0f921\"]]}],\"contourcarpet\":[{\"type\":\"contourcarpet\",\"colorbar\":{\"outlinewidth\":0,\"ticks\":\"\"}}],\"contour\":[{\"type\":\"contour\",\"colorbar\":{\"outlinewidth\":0,\"ticks\":\"\"},\"colorscale\":[[0.0,\"#0d0887\"],[0.1111111111111111,\"#46039f\"],[0.2222222222222222,\"#7201a8\"],[0.3333333333333333,\"#9c179e\"],[0.4444444444444444,\"#bd3786\"],[0.5555555555555556,\"#d8576b\"],[0.6666666666666666,\"#ed7953\"],[0.7777777777777778,\"#fb9f3a\"],[0.8888888888888888,\"#fdca26\"],[1.0,\"#f0f921\"]]}],\"surface\":[{\"type\":\"surface\",\"colorbar\":{\"outlinewidth\":0,\"ticks\":\"\"},\"colorscale\":[[0.0,\"#0d0887\"],[0.1111111111111111,\"#46039f\"],[0.2222222222222222,\"#7201a8\"],[0.3333333333333333,\"#9c179e\"],[0.4444444444444444,\"#bd3786\"],[0.5555555555555556,\"#d8576b\"],[0.6666666666666666,\"#ed7953\"],[0.7777777777777778,\"#fb9f3a\"],[0.8888888888888888,\"#fdca26\"],[1.0,\"#f0f921\"]]}],\"mesh3d\":[{\"type\":\"mesh3d\",\"colorbar\":{\"outlinewidth\":0,\"ticks\":\"\"}}],\"scatter\":[{\"fillpattern\":{\"fillmode\":\"overlay\",\"size\":10,\"solidity\":0.2},\"type\":\"scatter\"}],\"parcoords\":[{\"type\":\"parcoords\",\"line\":{\"colorbar\":{\"outlinewidth\":0,\"ticks\":\"\"}}}],\"scatterpolargl\":[{\"type\":\"scatterpolargl\",\"marker\":{\"colorbar\":{\"outlinewidth\":0,\"ticks\":\"\"}}}],\"bar\":[{\"error_x\":{\"color\":\"#2a3f5f\"},\"error_y\":{\"color\":\"#2a3f5f\"},\"marker\":{\"line\":{\"color\":\"#E5ECF6\",\"width\":0.5},\"pattern\":{\"fillmode\":\"overlay\",\"size\":10,\"solidity\":0.2}},\"type\":\"bar\"}],\"scattergeo\":[{\"type\":\"scattergeo\",\"marker\":{\"colorbar\":{\"outlinewidth\":0,\"ticks\":\"\"}}}],\"scatterpolar\":[{\"type\":\"scatterpolar\",\"marker\":{\"colorbar\":{\"outlinewidth\":0,\"ticks\":\"\"}}}],\"histogram\":[{\"marker\":{\"pattern\":{\"fillmode\":\"overlay\",\"size\":10,\"solidity\":0.2}},\"type\":\"histogram\"}],\"scattergl\":[{\"type\":\"scattergl\",\"marker\":{\"colorbar\":{\"outlinewidth\":0,\"ticks\":\"\"}}}],\"scatter3d\":[{\"type\":\"scatter3d\",\"line\":{\"colorbar\":{\"outlinewidth\":0,\"ticks\":\"\"}},\"marker\":{\"colorbar\":{\"outlinewidth\":0,\"ticks\":\"\"}}}],\"scattermapbox\":[{\"type\":\"scattermapbox\",\"marker\":{\"colorbar\":{\"outlinewidth\":0,\"ticks\":\"\"}}}],\"scatterternary\":[{\"type\":\"scatterternary\",\"marker\":{\"colorbar\":{\"outlinewidth\":0,\"ticks\":\"\"}}}],\"scattercarpet\":[{\"type\":\"scattercarpet\",\"marker\":{\"colorbar\":{\"outlinewidth\":0,\"ticks\":\"\"}}}],\"carpet\":[{\"aaxis\":{\"endlinecolor\":\"#2a3f5f\",\"gridcolor\":\"white\",\"linecolor\":\"white\",\"minorgridcolor\":\"white\",\"startlinecolor\":\"#2a3f5f\"},\"baxis\":{\"endlinecolor\":\"#2a3f5f\",\"gridcolor\":\"white\",\"linecolor\":\"white\",\"minorgridcolor\":\"white\",\"startlinecolor\":\"#2a3f5f\"},\"type\":\"carpet\"}],\"table\":[{\"cells\":{\"fill\":{\"color\":\"#EBF0F8\"},\"line\":{\"color\":\"white\"}},\"header\":{\"fill\":{\"color\":\"#C8D4E3\"},\"line\":{\"color\":\"white\"}},\"type\":\"table\"}],\"barpolar\":[{\"marker\":{\"line\":{\"color\":\"#E5ECF6\",\"width\":0.5},\"pattern\":{\"fillmode\":\"overlay\",\"size\":10,\"solidity\":0.2}},\"type\":\"barpolar\"}],\"pie\":[{\"automargin\":true,\"type\":\"pie\"}]},\"layout\":{\"autotypenumbers\":\"strict\",\"colorway\":[\"#636efa\",\"#EF553B\",\"#00cc96\",\"#ab63fa\",\"#FFA15A\",\"#19d3f3\",\"#FF6692\",\"#B6E880\",\"#FF97FF\",\"#FECB52\"],\"font\":{\"color\":\"#2a3f5f\"},\"hovermode\":\"closest\",\"hoverlabel\":{\"align\":\"left\"},\"paper_bgcolor\":\"white\",\"plot_bgcolor\":\"#E5ECF6\",\"polar\":{\"bgcolor\":\"#E5ECF6\",\"angularaxis\":{\"gridcolor\":\"white\",\"linecolor\":\"white\",\"ticks\":\"\"},\"radialaxis\":{\"gridcolor\":\"white\",\"linecolor\":\"white\",\"ticks\":\"\"}},\"ternary\":{\"bgcolor\":\"#E5ECF6\",\"aaxis\":{\"gridcolor\":\"white\",\"linecolor\":\"white\",\"ticks\":\"\"},\"baxis\":{\"gridcolor\":\"white\",\"linecolor\":\"white\",\"ticks\":\"\"},\"caxis\":{\"gridcolor\":\"white\",\"linecolor\":\"white\",\"ticks\":\"\"}},\"coloraxis\":{\"colorbar\":{\"outlinewidth\":0,\"ticks\":\"\"}},\"colorscale\":{\"sequential\":[[0.0,\"#0d0887\"],[0.1111111111111111,\"#46039f\"],[0.2222222222222222,\"#7201a8\"],[0.3333333333333333,\"#9c179e\"],[0.4444444444444444,\"#bd3786\"],[0.5555555555555556,\"#d8576b\"],[0.6666666666666666,\"#ed7953\"],[0.7777777777777778,\"#fb9f3a\"],[0.8888888888888888,\"#fdca26\"],[1.0,\"#f0f921\"]],\"sequentialminus\":[[0.0,\"#0d0887\"],[0.1111111111111111,\"#46039f\"],[0.2222222222222222,\"#7201a8\"],[0.3333333333333333,\"#9c179e\"],[0.4444444444444444,\"#bd3786\"],[0.5555555555555556,\"#d8576b\"],[0.6666666666666666,\"#ed7953\"],[0.7777777777777778,\"#fb9f3a\"],[0.8888888888888888,\"#fdca26\"],[1.0,\"#f0f921\"]],\"diverging\":[[0,\"#8e0152\"],[0.1,\"#c51b7d\"],[0.2,\"#de77ae\"],[0.3,\"#f1b6da\"],[0.4,\"#fde0ef\"],[0.5,\"#f7f7f7\"],[0.6,\"#e6f5d0\"],[0.7,\"#b8e186\"],[0.8,\"#7fbc41\"],[0.9,\"#4d9221\"],[1,\"#276419\"]]},\"xaxis\":{\"gridcolor\":\"white\",\"linecolor\":\"white\",\"ticks\":\"\",\"title\":{\"standoff\":15},\"zerolinecolor\":\"white\",\"automargin\":true,\"zerolinewidth\":2},\"yaxis\":{\"gridcolor\":\"white\",\"linecolor\":\"white\",\"ticks\":\"\",\"title\":{\"standoff\":15},\"zerolinecolor\":\"white\",\"automargin\":true,\"zerolinewidth\":2},\"scene\":{\"xaxis\":{\"backgroundcolor\":\"#E5ECF6\",\"gridcolor\":\"white\",\"linecolor\":\"white\",\"showbackground\":true,\"ticks\":\"\",\"zerolinecolor\":\"white\",\"gridwidth\":2},\"yaxis\":{\"backgroundcolor\":\"#E5ECF6\",\"gridcolor\":\"white\",\"linecolor\":\"white\",\"showbackground\":true,\"ticks\":\"\",\"zerolinecolor\":\"white\",\"gridwidth\":2},\"zaxis\":{\"backgroundcolor\":\"#E5ECF6\",\"gridcolor\":\"white\",\"linecolor\":\"white\",\"showbackground\":true,\"ticks\":\"\",\"zerolinecolor\":\"white\",\"gridwidth\":2}},\"shapedefaults\":{\"line\":{\"color\":\"#2a3f5f\"}},\"annotationdefaults\":{\"arrowcolor\":\"#2a3f5f\",\"arrowhead\":0,\"arrowwidth\":1},\"geo\":{\"bgcolor\":\"white\",\"landcolor\":\"#E5ECF6\",\"subunitcolor\":\"white\",\"showland\":true,\"showlakes\":true,\"lakecolor\":\"white\"},\"title\":{\"x\":0.05},\"mapbox\":{\"style\":\"light\"}}},\"xaxis\":{\"anchor\":\"y\",\"domain\":[0.0,1.0],\"title\":{\"text\":\"Position\"}},\"yaxis\":{\"anchor\":\"x\",\"domain\":[0.0,1.0],\"title\":{\"text\":\"Average\"}},\"legend\":{\"title\":{\"text\":\"FG type\"},\"tracegroupgap\":0},\"title\":{\"text\":\"Average FG made per Match\"},\"barmode\":\"relative\",\"width\":1200},                        {\"responsive\": true}                    ).then(function(){\n",
       "                            \n",
       "var gd = document.getElementById('87c0cc23-03a5-4bd1-9064-7a1b720f3040');\n",
       "var x = new MutationObserver(function (mutations, observer) {{\n",
       "        var display = window.getComputedStyle(gd).display;\n",
       "        if (!display || display === 'none') {{\n",
       "            console.log([gd, 'removed!']);\n",
       "            Plotly.purge(gd);\n",
       "            observer.disconnect();\n",
       "        }}\n",
       "}});\n",
       "\n",
       "// Listen for the removal of the full notebook cells\n",
       "var notebookContainer = gd.closest('#notebook-container');\n",
       "if (notebookContainer) {{\n",
       "    x.observe(notebookContainer, {childList: true});\n",
       "}}\n",
       "\n",
       "// Listen for the clearing of the current output cell\n",
       "var outputEl = gd.closest('.output');\n",
       "if (outputEl) {{\n",
       "    x.observe(outputEl, {childList: true});\n",
       "}}\n",
       "\n",
       "                        })                };                });            </script>        </div>"
      ]
     },
     "metadata": {},
     "output_type": "display_data"
    }
   ],
   "source": [
    "# looking at 2p and 3p scored by players in the five positions\n",
    "\n",
    "p23 = df_avg[['2P','3P']].unstack().reset_index()\n",
    "p23.columns = ['FG type', 'Position', 'Average']\n",
    "fig = px.bar(p23, x='Position', y='Average', color='FG type',\n",
    "             title = 'Average FG made per Match', width = 1200)\n",
    "fig.show()"
   ]
  },
  {
   "cell_type": "markdown",
   "id": "de0d4edf",
   "metadata": {
    "id": "abvEIkkN3y8b",
    "papermill": {
     "duration": 0.058809,
     "end_time": "2022-05-20T04:33:11.907060",
     "exception": false,
     "start_time": "2022-05-20T04:33:11.848251",
     "status": "completed"
    },
    "tags": []
   },
   "source": [
    "## Hypothesis Testing\n",
    "Hypothesis Testing on Performance stats of players in different positions/roles."
   ]
  },
  {
   "cell_type": "code",
   "execution_count": 24,
   "id": "0bda93aa",
   "metadata": {
    "execution": {
     "iopub.execute_input": "2022-05-20T04:33:12.026621Z",
     "iopub.status.busy": "2022-05-20T04:33:12.025899Z",
     "iopub.status.idle": "2022-05-20T04:33:12.030382Z",
     "shell.execute_reply": "2022-05-20T04:33:12.029775Z"
    },
    "id": "rMfYrWQ41_9e",
    "papermill": {
     "duration": 0.066219,
     "end_time": "2022-05-20T04:33:12.032198",
     "exception": false,
     "start_time": "2022-05-20T04:33:11.965979",
     "status": "completed"
    },
    "tags": []
   },
   "outputs": [],
   "source": [
    "from scipy.stats import ttest_ind\n",
    "from scipy.stats import f_oneway"
   ]
  },
  {
   "cell_type": "code",
   "execution_count": 25,
   "id": "6db126af",
   "metadata": {
    "execution": {
     "iopub.execute_input": "2022-05-20T04:33:12.152502Z",
     "iopub.status.busy": "2022-05-20T04:33:12.152088Z",
     "iopub.status.idle": "2022-05-20T04:33:12.158594Z",
     "shell.execute_reply": "2022-05-20T04:33:12.157923Z"
    },
    "id": "xJkMAdEM51qY",
    "papermill": {
     "duration": 0.068201,
     "end_time": "2022-05-20T04:33:12.160653",
     "exception": false,
     "start_time": "2022-05-20T04:33:12.092452",
     "status": "completed"
    },
    "tags": []
   },
   "outputs": [],
   "source": [
    "#Function for visualizing numerical variables, box plot\n",
    "def box_plot2(x, y):\n",
    "    ax = sns.boxplot(x = df_m[x], y = df_m[y], palette = 'tab20', showfliers = False, showmeans = True, \n",
    "                     meanprops={\"marker\":\"s\",\"markerfacecolor\":\"white\", \"markeredgecolor\":\"crimson\"})\n",
    "    ax.set_ylabel('')\n",
    "    ax.set_title('{}'.format(y), fontsize = 14, fontweight = 'bold', pad = 5)\n",
    "    ax.patch.set_edgecolor('black')\n",
    "    ax.patch.set_linewidth(1.5)"
   ]
  },
  {
   "cell_type": "code",
   "execution_count": 26,
   "id": "9ebbbb77",
   "metadata": {
    "execution": {
     "iopub.execute_input": "2022-05-20T04:33:12.279558Z",
     "iopub.status.busy": "2022-05-20T04:33:12.279089Z",
     "iopub.status.idle": "2022-05-20T04:33:12.558192Z",
     "shell.execute_reply": "2022-05-20T04:33:12.557296Z"
    },
    "id": "Q3UvPwuj2D0U",
    "outputId": "e52fff24-c29d-416f-c61a-3e8b239b6dd1",
    "papermill": {
     "duration": 0.340946,
     "end_time": "2022-05-20T04:33:12.560531",
     "exception": false,
     "start_time": "2022-05-20T04:33:12.219585",
     "status": "completed"
    },
    "tags": []
   },
   "outputs": [
    {
     "data": {
      "image/png": "[encoded data removed]",
      "text/plain": [
       "<Figure size 864x576 with 1 Axes>"
      ]
     },
     "metadata": {},
     "output_type": "display_data"
    }
   ],
   "source": [
    "plt.figure(figsize = [12, 8])\n",
    "box_plot2('Pos', '3P%')"
   ]
  },
  {
   "cell_type": "code",
   "execution_count": 27,
   "id": "a07c5333",
   "metadata": {
    "execution": {
     "iopub.execute_input": "2022-05-20T04:33:12.684749Z",
     "iopub.status.busy": "2022-05-20T04:33:12.684460Z",
     "iopub.status.idle": "2022-05-20T04:33:12.909264Z",
     "shell.execute_reply": "2022-05-20T04:33:12.908378Z"
    },
    "id": "0hAuMd8PhLW3",
    "outputId": "e3116014-6b98-4316-9820-1ef5b4977d91",
    "papermill": {
     "duration": 0.290406,
     "end_time": "2022-05-20T04:33:12.911274",
     "exception": false,
     "start_time": "2022-05-20T04:33:12.620868",
     "status": "completed"
    },
    "tags": []
   },
   "outputs": [
    {
     "data": {
      "image/png": "[encoded data removed]",
      "text/plain": [
       "<Figure size 864x576 with 1 Axes>"
      ]
     },
     "metadata": {},
     "output_type": "display_data"
    }
   ],
   "source": [
    "#2P%\n",
    "plt.figure(figsize = [12, 8])\n",
    "box_plot2('Pos', '2P%')"
   ]
  },
  {
   "cell_type": "code",
   "execution_count": 28,
   "id": "e6c4f4f0",
   "metadata": {
    "execution": {
     "iopub.execute_input": "2022-05-20T04:33:13.036700Z",
     "iopub.status.busy": "2022-05-20T04:33:13.036402Z",
     "iopub.status.idle": "2022-05-20T04:33:13.264825Z",
     "shell.execute_reply": "2022-05-20T04:33:13.263961Z"
    },
    "id": "YfJ-RiKAg6e_",
    "outputId": "b2a41daa-045a-44ad-adcb-f54b72a5f318",
    "papermill": {
     "duration": 0.292719,
     "end_time": "2022-05-20T04:33:13.266813",
     "exception": false,
     "start_time": "2022-05-20T04:33:12.974094",
     "status": "completed"
    },
    "tags": []
   },
   "outputs": [
    {
     "data": {
      "image/png": "[encoded data removed]",
      "text/plain": [
       "<Figure size 864x576 with 1 Axes>"
      ]
     },
     "metadata": {},
     "output_type": "display_data"
    }
   ],
   "source": [
    "#AST\n",
    "plt.figure(figsize = [12, 8])\n",
    "box_plot2('Pos', 'AST')"
   ]
  },
  {
   "cell_type": "code",
   "execution_count": 29,
   "id": "a430b582",
   "metadata": {
    "execution": {
     "iopub.execute_input": "2022-05-20T04:33:13.391084Z",
     "iopub.status.busy": "2022-05-20T04:33:13.390655Z",
     "iopub.status.idle": "2022-05-20T04:33:13.627865Z",
     "shell.execute_reply": "2022-05-20T04:33:13.626999Z"
    },
    "id": "bVU8mIO6NGF9",
    "outputId": "a8b69677-c2f7-41af-f806-89cc65d8226a",
    "papermill": {
     "duration": 0.302236,
     "end_time": "2022-05-20T04:33:13.630178",
     "exception": false,
     "start_time": "2022-05-20T04:33:13.327942",
     "status": "completed"
    },
    "tags": []
   },
   "outputs": [
    {
     "data": {
      "image/png": "[encoded data removed]",
      "text/plain": [
       "<Figure size 864x576 with 1 Axes>"
      ]
     },
     "metadata": {},
     "output_type": "display_data"
    }
   ],
   "source": [
    "#BLK\n",
    "plt.figure(figsize = [12, 8])\n",
    "box_plot2('Pos', 'ORB')"
   ]
  },
  {
   "cell_type": "code",
   "execution_count": 30,
   "id": "36ae5444",
   "metadata": {
    "execution": {
     "iopub.execute_input": "2022-05-20T04:33:13.759453Z",
     "iopub.status.busy": "2022-05-20T04:33:13.758689Z",
     "iopub.status.idle": "2022-05-20T04:33:13.764079Z",
     "shell.execute_reply": "2022-05-20T04:33:13.763458Z"
    },
    "id": "2wp_Rn08zfWg",
    "outputId": "e86d2220-c4ee-4fdf-a14b-806233c8f0bd",
    "papermill": {
     "duration": 0.071806,
     "end_time": "2022-05-20T04:33:13.765890",
     "exception": false,
     "start_time": "2022-05-20T04:33:13.694084",
     "status": "completed"
    },
    "tags": []
   },
   "outputs": [
    {
     "data": {
      "text/plain": [
       "array(['PF', 'PG', 'C', 'SG', 'SF'], dtype=object)"
      ]
     },
     "execution_count": 30,
     "metadata": {},
     "output_type": "execute_result"
    }
   ],
   "source": [
    "df_m.Pos.unique()"
   ]
  },
  {
   "cell_type": "code",
   "execution_count": 31,
   "id": "aace7868",
   "metadata": {
    "execution": {
     "iopub.execute_input": "2022-05-20T04:33:13.913720Z",
     "iopub.status.busy": "2022-05-20T04:33:13.913206Z",
     "iopub.status.idle": "2022-05-20T04:33:13.922220Z",
     "shell.execute_reply": "2022-05-20T04:33:13.921392Z"
    },
    "id": "ncEW-hXo2D6J",
    "papermill": {
     "duration": 0.086632,
     "end_time": "2022-05-20T04:33:13.924574",
     "exception": false,
     "start_time": "2022-05-20T04:33:13.837942",
     "status": "completed"
    },
    "tags": []
   },
   "outputs": [],
   "source": [
    "#seperating data by postions\n",
    "\n",
    "PF = df_m.loc[df_m.Pos == 'PF', :]\n",
    "PG = df_m.loc[df_m.Pos == 'PG', :]\n",
    "C = df_m.loc[df_m.Pos == 'C', :]\n",
    "SG = df_m.loc[df_m.Pos == 'SG', :]\n",
    "SF = df_m.loc[df_m.Pos == 'SF', :]"
   ]
  },
  {
   "cell_type": "markdown",
   "id": "342140d4",
   "metadata": {
    "papermill": {
     "duration": 0.062491,
     "end_time": "2022-05-20T04:33:14.049912",
     "exception": false,
     "start_time": "2022-05-20T04:33:13.987421",
     "status": "completed"
    },
    "tags": []
   },
   "source": [
    "### ANOVA\n",
    "The test is applied to samples from 5 groups corresponding to distinct positions."
   ]
  },
  {
   "cell_type": "code",
   "execution_count": 32,
   "id": "deeee99c",
   "metadata": {
    "execution": {
     "iopub.execute_input": "2022-05-20T04:33:14.176510Z",
     "iopub.status.busy": "2022-05-20T04:33:14.176228Z",
     "iopub.status.idle": "2022-05-20T04:33:14.226609Z",
     "shell.execute_reply": "2022-05-20T04:33:14.225708Z"
    },
    "papermill": {
     "duration": 0.115956,
     "end_time": "2022-05-20T04:33:14.228647",
     "exception": false,
     "start_time": "2022-05-20T04:33:14.112691",
     "status": "completed"
    },
    "tags": []
   },
   "outputs": [
    {
     "data": {
      "text/html": [
       "<div>\n",
       "<style scoped>\n",
       "    .dataframe tbody tr th:only-of-type {\n",
       "        vertical-align: middle;\n",
       "    }\n",
       "\n",
       "    .dataframe tbody tr th {\n",
       "        vertical-align: top;\n",
       "    }\n",
       "\n",
       "    .dataframe thead th {\n",
       "        text-align: right;\n",
       "    }\n",
       "</style>\n",
       "<table border=\"1\" class=\"dataframe\">\n",
       "  <thead>\n",
       "    <tr style=\"text-align: right;\">\n",
       "      <th></th>\n",
       "      <th>statistic</th>\n",
       "      <th>pvalue</th>\n",
       "    </tr>\n",
       "  </thead>\n",
       "  <tbody>\n",
       "    <tr>\n",
       "      <th>PTS</th>\n",
       "      <td>1.6136</td>\n",
       "      <td>0.1694</td>\n",
       "    </tr>\n",
       "    <tr>\n",
       "      <th>FG</th>\n",
       "      <td>1.2059</td>\n",
       "      <td>0.3073</td>\n",
       "    </tr>\n",
       "    <tr>\n",
       "      <th>FGA</th>\n",
       "      <td>4.0016</td>\n",
       "      <td>0.0033</td>\n",
       "    </tr>\n",
       "    <tr>\n",
       "      <th>FG%</th>\n",
       "      <td>23.3732</td>\n",
       "      <td>0.0</td>\n",
       "    </tr>\n",
       "    <tr>\n",
       "      <th>3P</th>\n",
       "      <td>20.1784</td>\n",
       "      <td>0.0</td>\n",
       "    </tr>\n",
       "    <tr>\n",
       "      <th>3PA</th>\n",
       "      <td>23.5837</td>\n",
       "      <td>0.0</td>\n",
       "    </tr>\n",
       "    <tr>\n",
       "      <th>3P%</th>\n",
       "      <td>11.4052</td>\n",
       "      <td>0.0</td>\n",
       "    </tr>\n",
       "    <tr>\n",
       "      <th>2P</th>\n",
       "      <td>3.9131</td>\n",
       "      <td>0.0039</td>\n",
       "    </tr>\n",
       "    <tr>\n",
       "      <th>2PA</th>\n",
       "      <td>2.5359</td>\n",
       "      <td>0.0393</td>\n",
       "    </tr>\n",
       "    <tr>\n",
       "      <th>2P%</th>\n",
       "      <td>13.6797</td>\n",
       "      <td>0.0</td>\n",
       "    </tr>\n",
       "    <tr>\n",
       "      <th>FT</th>\n",
       "      <td>0.9652</td>\n",
       "      <td>0.4261</td>\n",
       "    </tr>\n",
       "    <tr>\n",
       "      <th>FTA</th>\n",
       "      <td>1.3802</td>\n",
       "      <td>0.2395</td>\n",
       "    </tr>\n",
       "    <tr>\n",
       "      <th>FT%</th>\n",
       "      <td>9.2877</td>\n",
       "      <td>0.0</td>\n",
       "    </tr>\n",
       "    <tr>\n",
       "      <th>ORB</th>\n",
       "      <td>76.6947</td>\n",
       "      <td>0.0</td>\n",
       "    </tr>\n",
       "    <tr>\n",
       "      <th>DRB</th>\n",
       "      <td>17.3217</td>\n",
       "      <td>0.0</td>\n",
       "    </tr>\n",
       "    <tr>\n",
       "      <th>AST</th>\n",
       "      <td>28.7396</td>\n",
       "      <td>0.0</td>\n",
       "    </tr>\n",
       "    <tr>\n",
       "      <th>STL</th>\n",
       "      <td>7.4431</td>\n",
       "      <td>0.0</td>\n",
       "    </tr>\n",
       "    <tr>\n",
       "      <th>BLK</th>\n",
       "      <td>59.4565</td>\n",
       "      <td>0.0</td>\n",
       "    </tr>\n",
       "  </tbody>\n",
       "</table>\n",
       "</div>"
      ],
      "text/plain": [
       "    statistic  pvalue\n",
       "PTS    1.6136  0.1694\n",
       "FG     1.2059  0.3073\n",
       "FGA    4.0016  0.0033\n",
       "FG%   23.3732     0.0\n",
       "3P    20.1784     0.0\n",
       "3PA   23.5837     0.0\n",
       "3P%   11.4052     0.0\n",
       "2P     3.9131  0.0039\n",
       "2PA    2.5359  0.0393\n",
       "2P%   13.6797     0.0\n",
       "FT     0.9652  0.4261\n",
       "FTA    1.3802  0.2395\n",
       "FT%    9.2877     0.0\n",
       "ORB   76.6947     0.0\n",
       "DRB   17.3217     0.0\n",
       "AST   28.7396     0.0\n",
       "STL    7.4431     0.0\n",
       "BLK   59.4565     0.0"
      ]
     },
     "execution_count": 32,
     "metadata": {},
     "output_type": "execute_result"
    }
   ],
   "source": [
    "anova = pd.DataFrame(columns = ['statistic', 'pvalue'])\n",
    "for feature in perf_features:\n",
    "    f_test = f_oneway(PF[feature].dropna(), PG[feature].dropna(), C[feature].dropna(), SG[feature].dropna(), SF[feature].dropna())\n",
    "    anova.loc[feature, 'statistic'] = f_test.statistic.round(4)\n",
    "    anova.loc[feature, 'pvalue'] = f_test.pvalue.round(4)\n",
    "anova"
   ]
  },
  {
   "cell_type": "markdown",
   "id": "b446cbad",
   "metadata": {
    "papermill": {
     "duration": 0.062665,
     "end_time": "2022-05-20T04:33:14.354571",
     "exception": false,
     "start_time": "2022-05-20T04:33:14.291906",
     "status": "completed"
    },
    "tags": []
   },
   "source": [
    "Using the above analysis, we can conclude that for different positions there is no significant difference between the means for some performance metrics but are significantly different for some performance metrics."
   ]
  },
  {
   "cell_type": "markdown",
   "id": "8fa66416",
   "metadata": {
    "papermill": {
     "duration": 0.062874,
     "end_time": "2022-05-20T04:33:14.480729",
     "exception": false,
     "start_time": "2022-05-20T04:33:14.417855",
     "status": "completed"
    },
    "tags": []
   },
   "source": [
    "### Individual Comparision\n",
    "Comparing each position seperately every other position."
   ]
  },
  {
   "cell_type": "code",
   "execution_count": 33,
   "id": "6005ccec",
   "metadata": {
    "execution": {
     "iopub.execute_input": "2022-05-20T04:33:14.609498Z",
     "iopub.status.busy": "2022-05-20T04:33:14.608500Z",
     "iopub.status.idle": "2022-05-20T04:33:14.616558Z",
     "shell.execute_reply": "2022-05-20T04:33:14.615680Z"
    },
    "id": "SIaOdxzF2D_1",
    "outputId": "58be3723-416c-4e04-c245-9ff595c1ccca",
    "papermill": {
     "duration": 0.074385,
     "end_time": "2022-05-20T04:33:14.618578",
     "exception": false,
     "start_time": "2022-05-20T04:33:14.544193",
     "status": "completed"
    },
    "tags": []
   },
   "outputs": [
    {
     "data": {
      "text/plain": [
       "(0.5973240350913885, 0.5509461407201105)"
      ]
     },
     "execution_count": 33,
     "metadata": {},
     "output_type": "execute_result"
    }
   ],
   "source": [
    "t_value1,p_value1 = ttest_ind(C['PTS'], PF['PTS'], axis=0, equal_var=False)\n",
    "t_value1,p_value1"
   ]
  },
  {
   "cell_type": "code",
   "execution_count": 34,
   "id": "de13d891",
   "metadata": {
    "execution": {
     "iopub.execute_input": "2022-05-20T04:33:14.749767Z",
     "iopub.status.busy": "2022-05-20T04:33:14.749181Z",
     "iopub.status.idle": "2022-05-20T04:33:14.759346Z",
     "shell.execute_reply": "2022-05-20T04:33:14.758439Z"
    },
    "id": "UHelUqkH2EFY",
    "papermill": {
     "duration": 0.079043,
     "end_time": "2022-05-20T04:33:14.761816",
     "exception": false,
     "start_time": "2022-05-20T04:33:14.682773",
     "status": "completed"
    },
    "tags": []
   },
   "outputs": [],
   "source": [
    "#function to check p-values corresponding to t-statistic of test for the null hypothesis that 2 independent samples have identical average (expected) values.\n",
    "\n",
    "def t_test(x):\n",
    "    p_values = pd.DataFrame()\n",
    "    for df1 in ['PF', 'PG', 'C', 'SG', 'SF']:\n",
    "        for df2 in ['PF', 'PG', 'C', 'SG', 'SF']:\n",
    "            t_value, p_value = ttest_ind(eval(df1)[x].dropna(), eval(df2)[x].dropna(), axis=0, equal_var=False)\n",
    "            p_values.loc[df1, df2] = round(p_value, 4)\n",
    "\n",
    "    plt.figure(figsize = [10, 7])\n",
    "\n",
    "    mask = np.zeros_like(p_values, dtype=np.bool)\n",
    "    mask[np.triu_indices_from(mask)] = True\n",
    "\n",
    "    sns.heatmap(p_values, mask = mask, annot = True, cmap = 'Blues', linecolor = 'w', linewidth = 0.2, vmax = 1, vmin = 0, annot_kws={'fontsize':12})\n",
    "    plt.xticks(fontsize = 14)\n",
    "    plt.yticks(fontsize = 14)\n",
    "    plt.title('t-test on {}'.format(x), fontsize = 16, fontweight = 'bold')\n",
    "    plt.show()"
   ]
  },
  {
   "cell_type": "code",
   "execution_count": 35,
   "id": "02126300",
   "metadata": {
    "execution": {
     "iopub.execute_input": "2022-05-20T04:33:14.892755Z",
     "iopub.status.busy": "2022-05-20T04:33:14.892461Z",
     "iopub.status.idle": "2022-05-20T04:33:15.159394Z",
     "shell.execute_reply": "2022-05-20T04:33:15.158432Z"
    },
    "id": "qPrwwMRjMHpP",
    "outputId": "72312461-06f6-484b-df84-54f8fe5929e6",
    "papermill": {
     "duration": 0.335857,
     "end_time": "2022-05-20T04:33:15.161703",
     "exception": false,
     "start_time": "2022-05-20T04:33:14.825846",
     "status": "completed"
    },
    "tags": []
   },
   "outputs": [
    {
     "data": {
      "image/png": "[encoded data removed]",
      "text/plain": [
       "<Figure size 720x504 with 2 Axes>"
      ]
     },
     "metadata": {},
     "output_type": "display_data"
    }
   ],
   "source": [
    "#PTS\n",
    "t_test('PTS')"
   ]
  },
  {
   "cell_type": "markdown",
   "id": "8a0b39b8",
   "metadata": {
    "id": "oNJn_dyYOYoM",
    "papermill": {
     "duration": 0.064591,
     "end_time": "2022-05-20T04:33:15.291415",
     "exception": false,
     "start_time": "2022-05-20T04:33:15.226824",
     "status": "completed"
    },
    "tags": []
   },
   "source": [
    "> p-values of t-test on Average points scored in almost all the cases is much higher than the significance level of 0.05. For a significance level of 5% we fail to reject the null hypothesis. This means that positions/roles, PF, PG, C, SG and SF do not have significantly diferent average points scored."
   ]
  },
  {
   "cell_type": "markdown",
   "id": "f521ae0c",
   "metadata": {
    "id": "GPPwn4QFeHUT",
    "papermill": {
     "duration": 0.064322,
     "end_time": "2022-05-20T04:33:15.420310",
     "exception": false,
     "start_time": "2022-05-20T04:33:15.355988",
     "status": "completed"
    },
    "tags": []
   },
   "source": [
    "Similarly, this test can be done on all the other performance features."
   ]
  },
  {
   "cell_type": "code",
   "execution_count": 36,
   "id": "4b958bab",
   "metadata": {
    "execution": {
     "iopub.execute_input": "2022-05-20T04:33:15.551430Z",
     "iopub.status.busy": "2022-05-20T04:33:15.550794Z",
     "iopub.status.idle": "2022-05-20T04:33:21.108554Z",
     "shell.execute_reply": "2022-05-20T04:33:21.107654Z"
    },
    "id": "7bszY0zC2EJN",
    "outputId": "2a7d80d8-b03e-4dd2-eebf-25bbc387e88f",
    "papermill": {
     "duration": 5.627155,
     "end_time": "2022-05-20T04:33:21.112130",
     "exception": false,
     "start_time": "2022-05-20T04:33:15.484975",
     "status": "completed"
    },
    "tags": []
   },
   "outputs": [
    {
     "data": {
      "image/png": "[encoded data removed]",
      "text/plain": [
       "<Figure size 720x504 with 2 Axes>"
      ]
     },
     "metadata": {},
     "output_type": "display_data"
    },
    {
     "name": "stdout",
     "output_type": "stream",
     "text": [
      "\n",
      "\n"
     ]
    },
    {
     "data": {
      "image/png": "[encoded data removed]",
      "text/plain": [
       "<Figure size 720x504 with 2 Axes>"
      ]
     },
     "metadata": {},
     "output_type": "display_data"
    },
    {
     "name": "stdout",
     "output_type": "stream",
     "text": [
      "\n",
      "\n"
     ]
    },
    {
     "data": {
      "image/png": "[encoded data removed]",
      "text/plain": [
       "<Figure size 720x504 with 2 Axes>"
      ]
     },
     "metadata": {},
     "output_type": "display_data"
    },
    {
     "name": "stdout",
     "output_type": "stream",
     "text": [
      "\n",
      "\n"
     ]
    },
    {
     "data": {
      "image/png": "[encoded data removed]",
      "text/plain": [
       "<Figure size 720x504 with 2 Axes>"
      ]
     },
     "metadata": {},
     "output_type": "display_data"
    },
    {
     "name": "stdout",
     "output_type": "stream",
     "text": [
      "\n",
      "\n"
     ]
    },
    {
     "data": {
      "image/png": "[encoded data removed]",
      "text/plain": [
       "<Figure size 720x504 with 2 Axes>"
      ]
     },
     "metadata": {},
     "output_type": "display_data"
    },
    {
     "name": "stdout",
     "output_type": "stream",
     "text": [
      "\n",
      "\n"
     ]
    },
    {
     "data": {
      "image/png": "[encoded data removed]",
      "text/plain": [
       "<Figure size 720x504 with 2 Axes>"
      ]
     },
     "metadata": {},
     "output_type": "display_data"
    },
    {
     "name": "stdout",
     "output_type": "stream",
     "text": [
      "\n",
      "\n"
     ]
    },
    {
     "data": {
      "image/png": "[encoded data removed]",
      "text/plain": [
       "<Figure size 720x504 with 2 Axes>"
      ]
     },
     "metadata": {},
     "output_type": "display_data"
    },
    {
     "name": "stdout",
     "output_type": "stream",
     "text": [
      "\n",
      "\n"
     ]
    },
    {
     "data": {
      "image/png": "[encoded data removed]",
      "text/plain": [
       "<Figure size 720x504 with 2 Axes>"
      ]
     },
     "metadata": {},
     "output_type": "display_data"
    },
    {
     "name": "stdout",
     "output_type": "stream",
     "text": [
      "\n",
      "\n"
     ]
    },
    {
     "data": {
      "image/png": "[encoded data removed]",
      "text/plain": [
       "<Figure size 720x504 with 2 Axes>"
      ]
     },
     "metadata": {},
     "output_type": "display_data"
    },
    {
     "name": "stdout",
     "output_type": "stream",
     "text": [
      "\n",
      "\n"
     ]
    },
    {
     "data": {
      "image/png": "[encoded data removed]",
      "text/plain": [
       "<Figure size 720x504 with 2 Axes>"
      ]
     },
     "metadata": {},
     "output_type": "display_data"
    },
    {
     "name": "stdout",
     "output_type": "stream",
     "text": [
      "\n",
      "\n"
     ]
    },
    {
     "data": {
      "image/png": "[encoded data removed]",
      "text/plain": [
       "<Figure size 720x504 with 2 Axes>"
      ]
     },
     "metadata": {},
     "output_type": "display_data"
    },
    {
     "name": "stdout",
     "output_type": "stream",
     "text": [
      "\n",
      "\n"
     ]
    },
    {
     "data": {
      "image/png": "[encoded data removed]",
      "text/plain": [
       "<Figure size 720x504 with 2 Axes>"
      ]
     },
     "metadata": {},
     "output_type": "display_data"
    },
    {
     "name": "stdout",
     "output_type": "stream",
     "text": [
      "\n",
      "\n"
     ]
    },
    {
     "data": {
      "image/png": "[encoded data removed]",
      "text/plain": [
       "<Figure size 720x504 with 2 Axes>"
      ]
     },
     "metadata": {},
     "output_type": "display_data"
    },
    {
     "name": "stdout",
     "output_type": "stream",
     "text": [
      "\n",
      "\n"
     ]
    },
    {
     "data": {
      "image/png": "[encoded data removed]",
      "text/plain": [
       "<Figure size 720x504 with 2 Axes>"
      ]
     },
     "metadata": {},
     "output_type": "display_data"
    },
    {
     "name": "stdout",
     "output_type": "stream",
     "text": [
      "\n",
      "\n"
     ]
    },
    {
     "data": {
      "image/png": "[encoded data removed]",
      "text/plain": [
       "<Figure size 720x504 with 2 Axes>"
      ]
     },
     "metadata": {},
     "output_type": "display_data"
    },
    {
     "name": "stdout",
     "output_type": "stream",
     "text": [
      "\n",
      "\n"
     ]
    },
    {
     "data": {
      "image/png": "[encoded data removed]",
      "text/plain": [
       "<Figure size 720x504 with 2 Axes>"
      ]
     },
     "metadata": {},
     "output_type": "display_data"
    },
    {
     "name": "stdout",
     "output_type": "stream",
     "text": [
      "\n",
      "\n"
     ]
    },
    {
     "data": {
      "image/png": "[encoded data removed]",
      "text/plain": [
       "<Figure size 720x504 with 2 Axes>"
      ]
     },
     "metadata": {},
     "output_type": "display_data"
    },
    {
     "name": "stdout",
     "output_type": "stream",
     "text": [
      "\n",
      "\n"
     ]
    },
    {
     "data": {
      "image/png": "[encoded data removed]",
      "text/plain": [
       "<Figure size 720x504 with 2 Axes>"
      ]
     },
     "metadata": {},
     "output_type": "display_data"
    },
    {
     "name": "stdout",
     "output_type": "stream",
     "text": [
      "\n",
      "\n"
     ]
    }
   ],
   "source": [
    "for k in perf_features:\n",
    "    t_test(k)\n",
    "    print('\\n')"
   ]
  },
  {
   "cell_type": "markdown",
   "id": "48c0da5b",
   "metadata": {
    "id": "mTkHN2crenkB",
    "papermill": {
     "duration": 0.092787,
     "end_time": "2022-05-20T04:33:21.298684",
     "exception": false,
     "start_time": "2022-05-20T04:33:21.205897",
     "status": "completed"
    },
    "tags": []
   },
   "source": [
    "As evident, t-test on certain performance features results in a high p-value, which means, in such cases we fail to reject the null hypothesis and the sample means are not significantly different.\n",
    "\n",
    "In cases where the p-value is less than significance level, say 0.05, the null hypothesis is rejected, which means the sample means are significantly(in statistical terms) different."
   ]
  },
  {
   "cell_type": "code",
   "execution_count": null,
   "id": "a18f47da",
   "metadata": {
    "id": "mW6-AdYjmT42",
    "papermill": {
     "duration": 0.09142,
     "end_time": "2022-05-20T04:33:21.482030",
     "exception": false,
     "start_time": "2022-05-20T04:33:21.390610",
     "status": "completed"
    },
    "tags": []
   },
   "outputs": [],
   "source": []
  }
 ],
 "metadata": {
  "kernelspec": {
   "display_name": "Python 3",
   "language": "python",
   "name": "python3"
  },
  "language_info": {
   "codemirror_mode": {
    "name": "ipython",
    "version": 3
   },
   "file_extension": ".py",
   "mimetype": "text/x-python",
   "name": "python",
   "nbconvert_exporter": "python",
   "pygments_lexer": "ipython3",
   "version": "3.7.12"
  },
  "papermill": {
   "default_parameters": {},
   "duration": 29.532349,
   "end_time": "2022-05-20T04:33:22.495748",
   "environment_variables": {},
   "exception": null,
   "input_path": "__notebook__.ipynb",
   "output_path": "__notebook__.ipynb",
   "parameters": {},
   "start_time": "2022-05-20T04:32:52.963399",
   "version": "2.3.4"
  }
 },
 "nbformat": 4,
 "nbformat_minor": 5
}
